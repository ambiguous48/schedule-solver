{
  "cells": [
    {
      "cell_type": "code",
      "execution_count": 31,
      "metadata": {
        "id": "rZ4bkzZAGQLF"
      },
      "outputs": [],
      "source": [
        "# !pip install ortools pandas plotly"
      ]
    },
    {
      "cell_type": "code",
      "execution_count": 32,
      "metadata": {
        "id": "l3AOsXrBGSg6"
      },
      "outputs": [],
      "source": [
        "import datetime\n",
        "from math import ceil\n",
        "\n",
        "import numpy as np\n",
        "import pandas as pd\n",
        "import plotly.express as px\n",
        "from ortools.sat.python import cp_model"
      ]
    },
    {
      "cell_type": "code",
      "execution_count": 33,
      "metadata": {
        "id": "AKuDZqShGYfN"
      },
      "outputs": [],
      "source": [
        "def c_datetime(x):\n",
        "    return datetime.date.fromtimestamp(x * 24 * 3600).strftime(\"%Y-%m-%d\")\n",
        "\n",
        "\n",
        "BigM = 10000\n",
        "\n",
        "#########\n",
        "D = 4\n",
        "\n",
        "COST_MACHINE = [900, 800, 700, 100, 20]\n",
        "\n",
        "PRODUCTS_DATA = [  # product = (machine_id, processing_time).\n",
        "    [(4, 1), (0, 4), (1, 4), (2, 4), (3, 1)],  # P1\n",
        "    [(0, 4), (4, 1)],  # P2\n",
        "    [(4, 1), (0, 4), (4, 1)],  # P3\n",
        "    [(4, 5)],  # P4\n",
        "    [(4, 4)],  # P5\n",
        "]\n",
        "\n",
        "PRODUCTS_OUTPUT = [  # (quantity, number of days).\n",
        "    (4, 1), (4, 1), (2, 1), (3, 4), (3, 4)]\n",
        "\n",
        "I_hr = 16 # hours\n",
        "C_ov = 0.25 # overtime cost\n",
        "UB_machines = [4, 4, 4, 4, 4] # upper bound of machines\n",
        "No_p = len(PRODUCTS_DATA) # number of products\n",
        "p_day = [ceil(PRODUCTS_OUTPUT[i][0] / PRODUCTS_OUTPUT[i][1])\n",
        "         for i in range(len(PRODUCTS_OUTPUT))] # number of products per day\n",
        "\n",
        "\n",
        "##########\n",
        "class Job:\n",
        "    def __init__(self, product, fproduct, machine_type, duration, last):\n",
        "        self.product = product\n",
        "        self.fproduct = fproduct\n",
        "        self.machine_type = machine_type\n",
        "        self.duration = duration\n",
        "        self.last = last\n",
        "\n",
        "\n",
        "class Machine:\n",
        "    def __init__(self, type, ftype, cost):\n",
        "        self.type = type\n",
        "        self.ftype = ftype\n",
        "        self.cost = cost\n",
        "\n",
        "\n",
        "All_Jobs = []\n",
        "All_Machines = []\n",
        "\n",
        "for m in range(len(COST_MACHINE)):\n",
        "    for n in range(UB_machines[m]):\n",
        "        All_Machines.append(Machine(m, n, COST_MACHINE[m]))\n",
        "\n",
        "for p in range(len(PRODUCTS_DATA)):\n",
        "    for f in range(p_day[p]):\n",
        "        for j in range(len(PRODUCTS_DATA[p])):\n",
        "            job = PRODUCTS_DATA[p][j]\n",
        "            ind = len(All_Jobs)\n",
        "            All_Jobs.append(Job(p, f, job[0], job[1], 0))\n",
        "            if j == len(PRODUCTS_DATA[p]) - 1:\n",
        "                All_Jobs[ind].last = 1\n",
        "\n",
        "model = cp_model.CpModel()\n",
        "\n",
        "X = {}\n",
        "\n",
        "for m in range(len(All_Machines)):\n",
        "    machine_m = All_Machines[m]\n",
        "    for i in range(len(All_Jobs)):\n",
        "        job_i = All_Jobs[i]\n",
        "        if job_i.machine_type == machine_m.type:\n",
        "            for d in range(D):\n",
        "                X[i, -1, m,\n",
        "                    d] = model.NewBoolVar('x_{},d{},{},{}'.format(i, m, m, d))\n",
        "\n",
        "for i in range(len(All_Jobs)):\n",
        "    for j in range(len(All_Jobs)):\n",
        "        job_i = All_Jobs[i]\n",
        "        job_j = All_Jobs[j]\n",
        "        if i != j and job_i.machine_type == job_j.machine_type:\n",
        "            for m in range(len(All_Machines)):\n",
        "                machine_m = All_Machines[m]\n",
        "                if machine_m.type == job_i.machine_type:\n",
        "                    for d in range(D):\n",
        "                        X[i, j, m, d] = model.NewBoolVar(\n",
        "                            'x_{},{},{},{}'.format(i, j, m, d), )\n",
        "\n",
        "for d in range(D):\n",
        "    for i in range(len(All_Jobs)):\n",
        "        model.Add(sum(x for key, x in X.items()\n",
        "                  if key[0] == i and key[3] == d) <= 1)\n",
        "        sum_list = [x for key, x in X.items() if key[1] == i and key[3] == d]\n",
        "        if len(sum_list) > 0:\n",
        "            model.Add(sum(sum_list) <= 1)\n",
        "    for m in range(len(All_Machines)):\n",
        "        model.Add(sum(x for key, x in X.items()\n",
        "                  if key[1] == -1 and key[2] == m and key[3] == d) <= 1)\n",
        "\n",
        "for key_x, x in X.items():\n",
        "    i = key_x[0]\n",
        "    j = key_x[1]\n",
        "    m = key_x[2]\n",
        "    d = key_x[3]\n",
        "    if j != -1:\n",
        "        model.Add(x <= sum(xj for xj_key, xj in X.items()\n",
        "                           if xj_key[1] != i and xj_key[0] == j and xj_key[3] == d and xj_key[2] == m))\n",
        "\n",
        "T = {}\n",
        "for i in range(len(All_Jobs)):\n",
        "    for m in range(len(All_Machines)):\n",
        "        for d in range(D):\n",
        "            T[i, m, d] = model.NewIntVar(0, 24, 't_{},{},{}'.format(i, m, d))\n",
        "for key_x, x in X.items():\n",
        "    i = key_x[0]\n",
        "    j = key_x[1]\n",
        "    m = key_x[2]\n",
        "    d = key_x[3]\n",
        "    model.Add(T[i, m, d] <= BigM * sum(x for key, x in X.items() if key[0] == i and key[2] == m\n",
        "                                       and key[3] == d))\n",
        "    if j > -1:\n",
        "        model.Add(T[i, m, d] >= BigM * (X[i, j, m, d] - 1) +\n",
        "                  T[j, m, d] + All_Jobs[i].duration)\n",
        "    else:\n",
        "        model.Add(T[i, m, d] >= BigM *\n",
        "                  (X[i, j, m, d] - 1) + All_Jobs[i].duration)\n",
        "\n",
        "V = {}\n",
        "for m in range(len(All_Machines)):\n",
        "    machine_m = All_Machines[m]\n",
        "    for d in range(D):\n",
        "        V[m, d] = model.NewIntVar(0, 8, 'v_{},{}'.format(m, d))\n",
        "        for key, x in X.items():\n",
        "            if key[2] == m and key[3] == d:\n",
        "                model.Add(V[m, d] + I_hr >= T[key[0], m, d])\n",
        "\n",
        "Z = {}\n",
        "for m in range(len(All_Machines)):\n",
        "    machine_m = All_Machines[m]\n",
        "    Z[m] = model.NewBoolVar('z_{}'.format(m))\n",
        "    model.Add(Z[m] <= sum(x for key, x in X.items()\n",
        "              if key[1] == -1 and key[2] == m))\n",
        "    model.Add(BigM * Z[m] >= sum(x for key, x in X.items()\n",
        "              if key[1] == -1 and key[2] == m))\n",
        "\n",
        "for d in range(D):\n",
        "    for i in range(len(All_Jobs) - 1):\n",
        "        job_i = All_Jobs[i]\n",
        "        k = i + 1\n",
        "        job_k = All_Jobs[k]\n",
        "        if job_i.product == job_k.product and job_i.fproduct == job_k.fproduct:\n",
        "            mi_type = job_i.machine_type\n",
        "            mk_type = job_k.machine_type\n",
        "            model.Add(sum(x_i for x_i_key, x_i in X.items() if x_i_key[0] == i and x_i_key[3] == d)\n",
        "                      >= sum(x_k for x_k_key, x_k in X.items() if x_k_key[0] == k and x_k_key[3] == d))\n",
        "            model.Add(sum(t for key, t in T.items() if key[0] == k and key[2] == d\n",
        "                          and All_Machines[key[1]].type == mk_type)\n",
        "                      >= sum(tt for tkey, tt in T.items() if tkey[0] == i and tkey[2] == d\n",
        "                             and All_Machines[tkey[1]].type == mi_type) + job_k.duration)\n",
        "\n",
        "for p in range(No_p):\n",
        "    for j in range(len(All_Jobs)):\n",
        "        job_j = All_Jobs[j]\n",
        "        if job_j.product == p and job_j.last == 1:\n",
        "            if p < 3:\n",
        "                for d in range(D):\n",
        "                    model.Add(sum(x for key, x in X.items()\n",
        "                              if key[0] == j and key[3] == d) >= 1)\n",
        "            else:\n",
        "                model.Add(sum(x for key, x in X.items()\n",
        "                          if key[0] == j) >= p_day[p])\n",
        "\n",
        "for d in range(D):\n",
        "    model.Add(sum(x for key, x in X.items()\n",
        "                  if All_Jobs[key[0]].product == 3 and key[1] != -1 and key[3] == d) <= 0)\n",
        "\n",
        "model.Maximize(sum(v * All_Machines[key[0]].cost for key, v in V.items()) +\n",
        "               sum(D * z * All_Machines[key].cost for key, z in Z.items()))\n",
        "\n",
        "solver = cp_model.CpSolver()\n",
        "status = solver.Solve(model)"
      ]
    },
    {
      "cell_type": "code",
      "execution_count": null,
      "metadata": {
        "id": "5gs_WXe0HTF2"
      },
      "outputs": [],
      "source": [
        "sol_list = []\n",
        "if status == cp_model.OPTIMAL or status == cp_model.FEASIBLE:\n",
        "    print(f'Minimum of objective function: {solver.ObjectiveValue()}\\n')\n",
        "    for d in range(D):\n",
        "        for key, x in X.items():\n",
        "            if key[3] == d and solver.Value(x) > 0.99:\n",
        "                i = key[0]\n",
        "                j = key[1]\n",
        "                p1 = All_Jobs[i].product\n",
        "                pf1 = All_Jobs[i].fproduct\n",
        "                m = key[2]\n",
        "                m_type = All_Machines[m].type\n",
        "                m_ftype = All_Machines[m].ftype\n",
        "                p2 = All_Jobs[j].product\n",
        "                pf2 = All_Jobs[j].fproduct\n",
        "                ts = solver.Value(T[i, m, d]) - All_Jobs[i].duration + d * 24\n",
        "                tf = solver.Value(T[i, m, d]) + d * 24\n",
        "                print(\"D{} - Machine M{}-{} - P{}-{} - t{} : t{}\".format(d + 1, m_type + 1, m_ftype + 1,\n",
        "                                                                         p1 + 1, pf1 + 1, ts, tf))\n",
        "                sol_list.append(dict(Product='Product{}-{}'.format(p1+1, pf1+1),\n",
        "                                     Start=str(c_datetime(ts)), Finish=str(c_datetime(tf)),\n",
        "                                Machine='Machine{}-{}'.format(m_type + 1, m_ftype + 1)))\n",
        "else:\n",
        "    print('No solution found.')"
      ]
    },
    {
      "cell_type": "code",
      "execution_count": 41,
      "metadata": {},
      "outputs": [
        {
          "name": "stdout",
          "output_type": "stream",
          "text": [
            "           Product       Start      Finish        Machine\n",
            "0            CSS-1  1970-01-02  1970-01-06          FBU-1\n",
            "1            CSS-2  1970-01-02  1970-01-06          FBU-2\n",
            "2            CSS-3  1970-01-02  1970-01-06          FBU-3\n",
            "3            CSS-4  1970-01-02  1970-01-06          FBU-4\n",
            "4            CSS-1  1970-01-06  1970-01-10         Slik-1\n",
            "..             ...         ...         ...            ...\n",
            "136      Restore-1  1970-03-29  1970-03-30  Maintenance-1\n",
            "137      Restore-2  1970-03-25  1970-03-26  Maintenance-2\n",
            "138      Restore-2  1970-03-26  1970-03-30          FBU-2\n",
            "139      Restore-2  1970-03-30  1970-03-31  Maintenance-3\n",
            "140  Declearance-1  1970-03-30  1970-04-03  Maintenance-1\n",
            "\n",
            "[141 rows x 4 columns]\n"
          ]
        }
      ],
      "source": [
        "df = pd.DataFrame(sol_list)\n",
        "\n",
        "PRODUCT_NAMES = {\n",
        "    \"Product1\": \"CSS\",\n",
        "    \"Product2\": \"Fixback\",\n",
        "    \"Product3\": \"Restore\",\n",
        "    \"Product4\": \"Clearance\",\n",
        "    \"Product5\": \"Declearance\"\n",
        "}\n",
        "\n",
        "MACHINE_NAMES = {\n",
        "    \"Machine1\": \"FBU\",\n",
        "    \"Machine2\": \"Slik\",\n",
        "    \"Machine3\": \"CTU\",\n",
        "    \"Machine4\": \"Drill\",\n",
        "    \"Machine5\": \"Maintenance\"\n",
        "}\n",
        "\n",
        "# Update product names\n",
        "# Replace all occurrences of name with PRODUCT_NAMES[name], leaving the rest of the string intact\n",
        "for name in PRODUCT_NAMES:\n",
        "    df['Product'] = df['Product'].str.replace(name, PRODUCT_NAMES[name])\n",
        "\n",
        "# Update machine names\n",
        "for name in MACHINE_NAMES:\n",
        "    df['Machine'] = df['Machine'].str.replace(name, MACHINE_NAMES[name])\n",
        "\n",
        "print(df)\n",
        "\n",
        "df.to_csv('output/result.csv', index=False)\n"
      ]
    },
    {
      "cell_type": "code",
      "execution_count": 40,
      "metadata": {
        "colab": {
          "base_uri": "https://localhost:8080/",
          "height": 542
        },
        "id": "cZLf0lglHK5w",
        "outputId": "b9383fb9-fed8-4839-e5c7-e4386c93e56e"
      },
      "outputs": [
        {
          "data": {
            "application/vnd.plotly.v1+json": {
              "config": {
                "plotlyServerURL": "https://plot.ly"
              },
              "data": [
                {
                  "alignmentgroup": "True",
                  "base": [
                    "1970-01-02",
                    "1970-01-06",
                    "1970-01-10",
                    "1970-01-14",
                    "1970-01-01",
                    "1970-01-26",
                    "1970-01-30",
                    "1970-02-03",
                    "1970-02-07",
                    "1970-01-25",
                    "1970-02-19",
                    "1970-02-23",
                    "1970-02-27",
                    "1970-03-03",
                    "1970-02-18",
                    "1970-03-15",
                    "1970-03-19",
                    "1970-03-23",
                    "1970-03-27",
                    "1970-03-14"
                  ],
                  "hovertemplate": "Product=CSS-1<br>Start=%{base}<br>Finish=%{x}<br>Machine=%{y}<extra></extra>",
                  "legendgroup": "CSS-1",
                  "marker": {
                    "color": "#636efa",
                    "pattern": {
                      "shape": ""
                    }
                  },
                  "name": "CSS-1",
                  "offsetgroup": "CSS-1",
                  "orientation": "h",
                  "showlegend": true,
                  "textposition": "auto",
                  "type": "bar",
                  "x": [
                    345600000,
                    345600000,
                    345600000,
                    86400000,
                    86400000,
                    345600000,
                    345600000,
                    345600000,
                    86400000,
                    86400000,
                    345600000,
                    345600000,
                    345600000,
                    86400000,
                    86400000,
                    345600000,
                    345600000,
                    345600000,
                    86400000,
                    86400000
                  ],
                  "xaxis": "x",
                  "y": [
                    "FBU-1",
                    "Slik-1",
                    "CTU-1",
                    "Drill-1",
                    "Maintenance-1",
                    "FBU-1",
                    "Slik-1",
                    "CTU-1",
                    "Drill-1",
                    "Maintenance-1",
                    "FBU-1",
                    "Slik-1",
                    "CTU-1",
                    "Drill-1",
                    "Maintenance-1",
                    "FBU-1",
                    "Slik-1",
                    "CTU-1",
                    "Drill-1",
                    "Maintenance-1"
                  ],
                  "yaxis": "y"
                },
                {
                  "alignmentgroup": "True",
                  "base": [
                    "1970-01-02",
                    "1970-01-06",
                    "1970-01-10",
                    "1970-01-14",
                    "1970-01-01",
                    "1970-01-26",
                    "1970-01-30",
                    "1970-02-03",
                    "1970-02-07",
                    "1970-01-25",
                    "1970-02-19",
                    "1970-02-23",
                    "1970-02-27",
                    "1970-03-03",
                    "1970-02-18",
                    "1970-03-15",
                    "1970-03-19",
                    "1970-03-23",
                    "1970-03-27",
                    "1970-03-14"
                  ],
                  "hovertemplate": "Product=CSS-2<br>Start=%{base}<br>Finish=%{x}<br>Machine=%{y}<extra></extra>",
                  "legendgroup": "CSS-2",
                  "marker": {
                    "color": "#EF553B",
                    "pattern": {
                      "shape": ""
                    }
                  },
                  "name": "CSS-2",
                  "offsetgroup": "CSS-2",
                  "orientation": "h",
                  "showlegend": true,
                  "textposition": "auto",
                  "type": "bar",
                  "x": [
                    345600000,
                    345600000,
                    345600000,
                    86400000,
                    86400000,
                    345600000,
                    345600000,
                    345600000,
                    86400000,
                    86400000,
                    345600000,
                    345600000,
                    345600000,
                    86400000,
                    86400000,
                    345600000,
                    345600000,
                    345600000,
                    86400000,
                    86400000
                  ],
                  "xaxis": "x",
                  "y": [
                    "FBU-2",
                    "Slik-2",
                    "CTU-2",
                    "Drill-2",
                    "Maintenance-2",
                    "FBU-2",
                    "Slik-2",
                    "CTU-2",
                    "Drill-2",
                    "Maintenance-2",
                    "FBU-2",
                    "Slik-2",
                    "CTU-2",
                    "Drill-2",
                    "Maintenance-2",
                    "FBU-2",
                    "Slik-2",
                    "CTU-2",
                    "Drill-2",
                    "Maintenance-2"
                  ],
                  "yaxis": "y"
                },
                {
                  "alignmentgroup": "True",
                  "base": [
                    "1970-01-02",
                    "1970-01-06",
                    "1970-01-10",
                    "1970-01-14",
                    "1970-01-01",
                    "1970-01-26",
                    "1970-01-30",
                    "1970-02-03",
                    "1970-02-07",
                    "1970-01-25",
                    "1970-02-19",
                    "1970-02-23",
                    "1970-02-27",
                    "1970-03-03",
                    "1970-02-18",
                    "1970-03-15",
                    "1970-03-19",
                    "1970-03-23",
                    "1970-03-27",
                    "1970-03-14"
                  ],
                  "hovertemplate": "Product=CSS-3<br>Start=%{base}<br>Finish=%{x}<br>Machine=%{y}<extra></extra>",
                  "legendgroup": "CSS-3",
                  "marker": {
                    "color": "#00cc96",
                    "pattern": {
                      "shape": ""
                    }
                  },
                  "name": "CSS-3",
                  "offsetgroup": "CSS-3",
                  "orientation": "h",
                  "showlegend": true,
                  "textposition": "auto",
                  "type": "bar",
                  "x": [
                    345600000,
                    345600000,
                    345600000,
                    86400000,
                    86400000,
                    345600000,
                    345600000,
                    345600000,
                    86400000,
                    86400000,
                    345600000,
                    345600000,
                    345600000,
                    86400000,
                    86400000,
                    345600000,
                    345600000,
                    345600000,
                    86400000,
                    86400000
                  ],
                  "xaxis": "x",
                  "y": [
                    "FBU-3",
                    "Slik-3",
                    "CTU-3",
                    "Drill-3",
                    "Maintenance-3",
                    "FBU-3",
                    "Slik-3",
                    "CTU-3",
                    "Drill-3",
                    "Maintenance-3",
                    "FBU-3",
                    "Slik-3",
                    "CTU-3",
                    "Drill-3",
                    "Maintenance-3",
                    "FBU-3",
                    "Slik-3",
                    "CTU-3",
                    "Drill-3",
                    "Maintenance-3"
                  ],
                  "yaxis": "y"
                },
                {
                  "alignmentgroup": "True",
                  "base": [
                    "1970-01-02",
                    "1970-01-06",
                    "1970-01-10",
                    "1970-01-14",
                    "1970-01-01",
                    "1970-01-26",
                    "1970-01-30",
                    "1970-02-03",
                    "1970-02-07",
                    "1970-01-25",
                    "1970-02-19",
                    "1970-02-23",
                    "1970-02-27",
                    "1970-03-03",
                    "1970-02-18",
                    "1970-03-16",
                    "1970-03-20",
                    "1970-03-24",
                    "1970-03-28",
                    "1970-03-15"
                  ],
                  "hovertemplate": "Product=CSS-4<br>Start=%{base}<br>Finish=%{x}<br>Machine=%{y}<extra></extra>",
                  "legendgroup": "CSS-4",
                  "marker": {
                    "color": "#ab63fa",
                    "pattern": {
                      "shape": ""
                    }
                  },
                  "name": "CSS-4",
                  "offsetgroup": "CSS-4",
                  "orientation": "h",
                  "showlegend": true,
                  "textposition": "auto",
                  "type": "bar",
                  "x": [
                    345600000,
                    345600000,
                    345600000,
                    86400000,
                    86400000,
                    345600000,
                    345600000,
                    345600000,
                    86400000,
                    86400000,
                    345600000,
                    345600000,
                    345600000,
                    86400000,
                    86400000,
                    345600000,
                    345600000,
                    345600000,
                    86400000,
                    86400000
                  ],
                  "xaxis": "x",
                  "y": [
                    "FBU-4",
                    "Slik-4",
                    "CTU-4",
                    "Drill-4",
                    "Maintenance-4",
                    "FBU-4",
                    "Slik-4",
                    "CTU-4",
                    "Drill-4",
                    "Maintenance-4",
                    "FBU-4",
                    "Slik-4",
                    "CTU-4",
                    "Drill-4",
                    "Maintenance-4",
                    "FBU-4",
                    "Slik-4",
                    "CTU-4",
                    "Drill-4",
                    "Maintenance-1"
                  ],
                  "yaxis": "y"
                },
                {
                  "alignmentgroup": "True",
                  "base": [
                    "1970-01-06",
                    "1970-01-10",
                    "1970-01-30",
                    "1970-02-03",
                    "1970-02-23",
                    "1970-02-27",
                    "1970-03-19",
                    "1970-03-23"
                  ],
                  "hovertemplate": "Product=Fixback-1<br>Start=%{base}<br>Finish=%{x}<br>Machine=%{y}<extra></extra>",
                  "legendgroup": "Fixback-1",
                  "marker": {
                    "color": "#FFA15A",
                    "pattern": {
                      "shape": ""
                    }
                  },
                  "name": "Fixback-1",
                  "offsetgroup": "Fixback-1",
                  "orientation": "h",
                  "showlegend": true,
                  "textposition": "auto",
                  "type": "bar",
                  "x": [
                    345600000,
                    86400000,
                    345600000,
                    86400000,
                    345600000,
                    86400000,
                    345600000,
                    86400000
                  ],
                  "xaxis": "x",
                  "y": [
                    "FBU-1",
                    "Maintenance-1",
                    "FBU-1",
                    "Maintenance-1",
                    "FBU-1",
                    "Maintenance-1",
                    "FBU-1",
                    "Maintenance-2"
                  ],
                  "yaxis": "y"
                },
                {
                  "alignmentgroup": "True",
                  "base": [
                    "1970-01-06",
                    "1970-01-10",
                    "1970-01-30",
                    "1970-02-03",
                    "1970-02-23",
                    "1970-02-27",
                    "1970-03-19",
                    "1970-03-23"
                  ],
                  "hovertemplate": "Product=Fixback-2<br>Start=%{base}<br>Finish=%{x}<br>Machine=%{y}<extra></extra>",
                  "legendgroup": "Fixback-2",
                  "marker": {
                    "color": "#19d3f3",
                    "pattern": {
                      "shape": ""
                    }
                  },
                  "name": "Fixback-2",
                  "offsetgroup": "Fixback-2",
                  "orientation": "h",
                  "showlegend": true,
                  "textposition": "auto",
                  "type": "bar",
                  "x": [
                    345600000,
                    86400000,
                    345600000,
                    86400000,
                    345600000,
                    86400000,
                    345600000,
                    86400000
                  ],
                  "xaxis": "x",
                  "y": [
                    "FBU-2",
                    "Maintenance-2",
                    "FBU-2",
                    "Maintenance-2",
                    "FBU-2",
                    "Maintenance-2",
                    "FBU-2",
                    "Maintenance-3"
                  ],
                  "yaxis": "y"
                },
                {
                  "alignmentgroup": "True",
                  "base": [
                    "1970-01-06",
                    "1970-01-10",
                    "1970-01-30",
                    "1970-02-03",
                    "1970-02-23",
                    "1970-02-27",
                    "1970-03-19",
                    "1970-03-23"
                  ],
                  "hovertemplate": "Product=Fixback-3<br>Start=%{base}<br>Finish=%{x}<br>Machine=%{y}<extra></extra>",
                  "legendgroup": "Fixback-3",
                  "marker": {
                    "color": "#FF6692",
                    "pattern": {
                      "shape": ""
                    }
                  },
                  "name": "Fixback-3",
                  "offsetgroup": "Fixback-3",
                  "orientation": "h",
                  "showlegend": true,
                  "textposition": "auto",
                  "type": "bar",
                  "x": [
                    345600000,
                    86400000,
                    345600000,
                    86400000,
                    345600000,
                    86400000,
                    345600000,
                    86400000
                  ],
                  "xaxis": "x",
                  "y": [
                    "FBU-3",
                    "Maintenance-3",
                    "FBU-3",
                    "Maintenance-3",
                    "FBU-3",
                    "Maintenance-3",
                    "FBU-3",
                    "Maintenance-1"
                  ],
                  "yaxis": "y"
                },
                {
                  "alignmentgroup": "True",
                  "base": [
                    "1970-01-06",
                    "1970-01-10",
                    "1970-01-30",
                    "1970-02-03",
                    "1970-02-23",
                    "1970-02-27",
                    "1970-03-20",
                    "1970-03-24"
                  ],
                  "hovertemplate": "Product=Fixback-4<br>Start=%{base}<br>Finish=%{x}<br>Machine=%{y}<extra></extra>",
                  "legendgroup": "Fixback-4",
                  "marker": {
                    "color": "#B6E880",
                    "pattern": {
                      "shape": ""
                    }
                  },
                  "name": "Fixback-4",
                  "offsetgroup": "Fixback-4",
                  "orientation": "h",
                  "showlegend": true,
                  "textposition": "auto",
                  "type": "bar",
                  "x": [
                    345600000,
                    86400000,
                    345600000,
                    86400000,
                    345600000,
                    86400000,
                    345600000,
                    86400000
                  ],
                  "xaxis": "x",
                  "y": [
                    "FBU-4",
                    "Maintenance-4",
                    "FBU-4",
                    "Maintenance-4",
                    "FBU-4",
                    "Maintenance-4",
                    "FBU-4",
                    "Maintenance-2"
                  ],
                  "yaxis": "y"
                },
                {
                  "alignmentgroup": "True",
                  "base": [
                    "1970-01-11",
                    "1970-01-12",
                    "1970-01-16",
                    "1970-02-04",
                    "1970-02-05",
                    "1970-02-09",
                    "1970-02-28",
                    "1970-03-01",
                    "1970-03-05",
                    "1970-03-24",
                    "1970-03-25",
                    "1970-03-29"
                  ],
                  "hovertemplate": "Product=Restore-1<br>Start=%{base}<br>Finish=%{x}<br>Machine=%{y}<extra></extra>",
                  "legendgroup": "Restore-1",
                  "marker": {
                    "color": "#FF97FF",
                    "pattern": {
                      "shape": ""
                    }
                  },
                  "name": "Restore-1",
                  "offsetgroup": "Restore-1",
                  "orientation": "h",
                  "showlegend": true,
                  "textposition": "auto",
                  "type": "bar",
                  "x": [
                    86400000,
                    345600000,
                    86400000,
                    86400000,
                    345600000,
                    86400000,
                    86400000,
                    345600000,
                    86400000,
                    86400000,
                    345600000,
                    86400000
                  ],
                  "xaxis": "x",
                  "y": [
                    "Maintenance-1",
                    "FBU-1",
                    "Maintenance-2",
                    "Maintenance-1",
                    "FBU-1",
                    "Maintenance-2",
                    "Maintenance-1",
                    "FBU-1",
                    "Maintenance-2",
                    "Maintenance-3",
                    "FBU-1",
                    "Maintenance-1"
                  ],
                  "yaxis": "y"
                },
                {
                  "alignmentgroup": "True",
                  "base": [
                    "1970-01-11",
                    "1970-01-12",
                    "1970-01-16",
                    "1970-02-04",
                    "1970-02-05",
                    "1970-02-09",
                    "1970-02-28",
                    "1970-03-01",
                    "1970-03-05",
                    "1970-03-25",
                    "1970-03-26",
                    "1970-03-30"
                  ],
                  "hovertemplate": "Product=Restore-2<br>Start=%{base}<br>Finish=%{x}<br>Machine=%{y}<extra></extra>",
                  "legendgroup": "Restore-2",
                  "marker": {
                    "color": "#FECB52",
                    "pattern": {
                      "shape": ""
                    }
                  },
                  "name": "Restore-2",
                  "offsetgroup": "Restore-2",
                  "orientation": "h",
                  "showlegend": true,
                  "textposition": "auto",
                  "type": "bar",
                  "x": [
                    86400000,
                    345600000,
                    86400000,
                    86400000,
                    345600000,
                    86400000,
                    86400000,
                    345600000,
                    86400000,
                    86400000,
                    345600000,
                    86400000
                  ],
                  "xaxis": "x",
                  "y": [
                    "Maintenance-3",
                    "FBU-2",
                    "Maintenance-4",
                    "Maintenance-3",
                    "FBU-2",
                    "Maintenance-4",
                    "Maintenance-3",
                    "FBU-2",
                    "Maintenance-4",
                    "Maintenance-2",
                    "FBU-2",
                    "Maintenance-3"
                  ],
                  "yaxis": "y"
                },
                {
                  "alignmentgroup": "True",
                  "base": [
                    "1970-01-12",
                    "1970-02-05",
                    "1970-03-01",
                    "1970-03-30"
                  ],
                  "hovertemplate": "Product=Declearance-1<br>Start=%{base}<br>Finish=%{x}<br>Machine=%{y}<extra></extra>",
                  "legendgroup": "Declearance-1",
                  "marker": {
                    "color": "#636efa",
                    "pattern": {
                      "shape": ""
                    }
                  },
                  "name": "Declearance-1",
                  "offsetgroup": "Declearance-1",
                  "orientation": "h",
                  "showlegend": true,
                  "textposition": "auto",
                  "type": "bar",
                  "x": [
                    345600000,
                    345600000,
                    345600000,
                    345600000
                  ],
                  "xaxis": "x",
                  "y": [
                    "Maintenance-1",
                    "Maintenance-1",
                    "Maintenance-1",
                    "Maintenance-1"
                  ],
                  "yaxis": "y"
                },
                {
                  "alignmentgroup": "True",
                  "base": [
                    "1970-03-14"
                  ],
                  "hovertemplate": "Product=Clearance-1<br>Start=%{base}<br>Finish=%{x}<br>Machine=%{y}<extra></extra>",
                  "legendgroup": "Clearance-1",
                  "marker": {
                    "color": "#EF553B",
                    "pattern": {
                      "shape": ""
                    }
                  },
                  "name": "Clearance-1",
                  "offsetgroup": "Clearance-1",
                  "orientation": "h",
                  "showlegend": true,
                  "textposition": "auto",
                  "type": "bar",
                  "x": [
                    432000000
                  ],
                  "xaxis": "x",
                  "y": [
                    "Maintenance-4"
                  ],
                  "yaxis": "y"
                }
              ],
              "layout": {
                "barmode": "overlay",
                "legend": {
                  "title": {
                    "text": "Product"
                  },
                  "tracegroupgap": 0
                },
                "margin": {
                  "t": 60
                },
                "template": {
                  "data": {
                    "bar": [
                      {
                        "error_x": {
                          "color": "#2a3f5f"
                        },
                        "error_y": {
                          "color": "#2a3f5f"
                        },
                        "marker": {
                          "line": {
                            "color": "#E5ECF6",
                            "width": 0.5
                          },
                          "pattern": {
                            "fillmode": "overlay",
                            "size": 10,
                            "solidity": 0.2
                          }
                        },
                        "type": "bar"
                      }
                    ],
                    "barpolar": [
                      {
                        "marker": {
                          "line": {
                            "color": "#E5ECF6",
                            "width": 0.5
                          },
                          "pattern": {
                            "fillmode": "overlay",
                            "size": 10,
                            "solidity": 0.2
                          }
                        },
                        "type": "barpolar"
                      }
                    ],
                    "carpet": [
                      {
                        "aaxis": {
                          "endlinecolor": "#2a3f5f",
                          "gridcolor": "white",
                          "linecolor": "white",
                          "minorgridcolor": "white",
                          "startlinecolor": "#2a3f5f"
                        },
                        "baxis": {
                          "endlinecolor": "#2a3f5f",
                          "gridcolor": "white",
                          "linecolor": "white",
                          "minorgridcolor": "white",
                          "startlinecolor": "#2a3f5f"
                        },
                        "type": "carpet"
                      }
                    ],
                    "choropleth": [
                      {
                        "colorbar": {
                          "outlinewidth": 0,
                          "ticks": ""
                        },
                        "type": "choropleth"
                      }
                    ],
                    "contour": [
                      {
                        "colorbar": {
                          "outlinewidth": 0,
                          "ticks": ""
                        },
                        "colorscale": [
                          [
                            0,
                            "#0d0887"
                          ],
                          [
                            0.1111111111111111,
                            "#46039f"
                          ],
                          [
                            0.2222222222222222,
                            "#7201a8"
                          ],
                          [
                            0.3333333333333333,
                            "#9c179e"
                          ],
                          [
                            0.4444444444444444,
                            "#bd3786"
                          ],
                          [
                            0.5555555555555556,
                            "#d8576b"
                          ],
                          [
                            0.6666666666666666,
                            "#ed7953"
                          ],
                          [
                            0.7777777777777778,
                            "#fb9f3a"
                          ],
                          [
                            0.8888888888888888,
                            "#fdca26"
                          ],
                          [
                            1,
                            "#f0f921"
                          ]
                        ],
                        "type": "contour"
                      }
                    ],
                    "contourcarpet": [
                      {
                        "colorbar": {
                          "outlinewidth": 0,
                          "ticks": ""
                        },
                        "type": "contourcarpet"
                      }
                    ],
                    "heatmap": [
                      {
                        "colorbar": {
                          "outlinewidth": 0,
                          "ticks": ""
                        },
                        "colorscale": [
                          [
                            0,
                            "#0d0887"
                          ],
                          [
                            0.1111111111111111,
                            "#46039f"
                          ],
                          [
                            0.2222222222222222,
                            "#7201a8"
                          ],
                          [
                            0.3333333333333333,
                            "#9c179e"
                          ],
                          [
                            0.4444444444444444,
                            "#bd3786"
                          ],
                          [
                            0.5555555555555556,
                            "#d8576b"
                          ],
                          [
                            0.6666666666666666,
                            "#ed7953"
                          ],
                          [
                            0.7777777777777778,
                            "#fb9f3a"
                          ],
                          [
                            0.8888888888888888,
                            "#fdca26"
                          ],
                          [
                            1,
                            "#f0f921"
                          ]
                        ],
                        "type": "heatmap"
                      }
                    ],
                    "heatmapgl": [
                      {
                        "colorbar": {
                          "outlinewidth": 0,
                          "ticks": ""
                        },
                        "colorscale": [
                          [
                            0,
                            "#0d0887"
                          ],
                          [
                            0.1111111111111111,
                            "#46039f"
                          ],
                          [
                            0.2222222222222222,
                            "#7201a8"
                          ],
                          [
                            0.3333333333333333,
                            "#9c179e"
                          ],
                          [
                            0.4444444444444444,
                            "#bd3786"
                          ],
                          [
                            0.5555555555555556,
                            "#d8576b"
                          ],
                          [
                            0.6666666666666666,
                            "#ed7953"
                          ],
                          [
                            0.7777777777777778,
                            "#fb9f3a"
                          ],
                          [
                            0.8888888888888888,
                            "#fdca26"
                          ],
                          [
                            1,
                            "#f0f921"
                          ]
                        ],
                        "type": "heatmapgl"
                      }
                    ],
                    "histogram": [
                      {
                        "marker": {
                          "pattern": {
                            "fillmode": "overlay",
                            "size": 10,
                            "solidity": 0.2
                          }
                        },
                        "type": "histogram"
                      }
                    ],
                    "histogram2d": [
                      {
                        "colorbar": {
                          "outlinewidth": 0,
                          "ticks": ""
                        },
                        "colorscale": [
                          [
                            0,
                            "#0d0887"
                          ],
                          [
                            0.1111111111111111,
                            "#46039f"
                          ],
                          [
                            0.2222222222222222,
                            "#7201a8"
                          ],
                          [
                            0.3333333333333333,
                            "#9c179e"
                          ],
                          [
                            0.4444444444444444,
                            "#bd3786"
                          ],
                          [
                            0.5555555555555556,
                            "#d8576b"
                          ],
                          [
                            0.6666666666666666,
                            "#ed7953"
                          ],
                          [
                            0.7777777777777778,
                            "#fb9f3a"
                          ],
                          [
                            0.8888888888888888,
                            "#fdca26"
                          ],
                          [
                            1,
                            "#f0f921"
                          ]
                        ],
                        "type": "histogram2d"
                      }
                    ],
                    "histogram2dcontour": [
                      {
                        "colorbar": {
                          "outlinewidth": 0,
                          "ticks": ""
                        },
                        "colorscale": [
                          [
                            0,
                            "#0d0887"
                          ],
                          [
                            0.1111111111111111,
                            "#46039f"
                          ],
                          [
                            0.2222222222222222,
                            "#7201a8"
                          ],
                          [
                            0.3333333333333333,
                            "#9c179e"
                          ],
                          [
                            0.4444444444444444,
                            "#bd3786"
                          ],
                          [
                            0.5555555555555556,
                            "#d8576b"
                          ],
                          [
                            0.6666666666666666,
                            "#ed7953"
                          ],
                          [
                            0.7777777777777778,
                            "#fb9f3a"
                          ],
                          [
                            0.8888888888888888,
                            "#fdca26"
                          ],
                          [
                            1,
                            "#f0f921"
                          ]
                        ],
                        "type": "histogram2dcontour"
                      }
                    ],
                    "mesh3d": [
                      {
                        "colorbar": {
                          "outlinewidth": 0,
                          "ticks": ""
                        },
                        "type": "mesh3d"
                      }
                    ],
                    "parcoords": [
                      {
                        "line": {
                          "colorbar": {
                            "outlinewidth": 0,
                            "ticks": ""
                          }
                        },
                        "type": "parcoords"
                      }
                    ],
                    "pie": [
                      {
                        "automargin": true,
                        "type": "pie"
                      }
                    ],
                    "scatter": [
                      {
                        "fillpattern": {
                          "fillmode": "overlay",
                          "size": 10,
                          "solidity": 0.2
                        },
                        "type": "scatter"
                      }
                    ],
                    "scatter3d": [
                      {
                        "line": {
                          "colorbar": {
                            "outlinewidth": 0,
                            "ticks": ""
                          }
                        },
                        "marker": {
                          "colorbar": {
                            "outlinewidth": 0,
                            "ticks": ""
                          }
                        },
                        "type": "scatter3d"
                      }
                    ],
                    "scattercarpet": [
                      {
                        "marker": {
                          "colorbar": {
                            "outlinewidth": 0,
                            "ticks": ""
                          }
                        },
                        "type": "scattercarpet"
                      }
                    ],
                    "scattergeo": [
                      {
                        "marker": {
                          "colorbar": {
                            "outlinewidth": 0,
                            "ticks": ""
                          }
                        },
                        "type": "scattergeo"
                      }
                    ],
                    "scattergl": [
                      {
                        "marker": {
                          "colorbar": {
                            "outlinewidth": 0,
                            "ticks": ""
                          }
                        },
                        "type": "scattergl"
                      }
                    ],
                    "scattermapbox": [
                      {
                        "marker": {
                          "colorbar": {
                            "outlinewidth": 0,
                            "ticks": ""
                          }
                        },
                        "type": "scattermapbox"
                      }
                    ],
                    "scatterpolar": [
                      {
                        "marker": {
                          "colorbar": {
                            "outlinewidth": 0,
                            "ticks": ""
                          }
                        },
                        "type": "scatterpolar"
                      }
                    ],
                    "scatterpolargl": [
                      {
                        "marker": {
                          "colorbar": {
                            "outlinewidth": 0,
                            "ticks": ""
                          }
                        },
                        "type": "scatterpolargl"
                      }
                    ],
                    "scatterternary": [
                      {
                        "marker": {
                          "colorbar": {
                            "outlinewidth": 0,
                            "ticks": ""
                          }
                        },
                        "type": "scatterternary"
                      }
                    ],
                    "surface": [
                      {
                        "colorbar": {
                          "outlinewidth": 0,
                          "ticks": ""
                        },
                        "colorscale": [
                          [
                            0,
                            "#0d0887"
                          ],
                          [
                            0.1111111111111111,
                            "#46039f"
                          ],
                          [
                            0.2222222222222222,
                            "#7201a8"
                          ],
                          [
                            0.3333333333333333,
                            "#9c179e"
                          ],
                          [
                            0.4444444444444444,
                            "#bd3786"
                          ],
                          [
                            0.5555555555555556,
                            "#d8576b"
                          ],
                          [
                            0.6666666666666666,
                            "#ed7953"
                          ],
                          [
                            0.7777777777777778,
                            "#fb9f3a"
                          ],
                          [
                            0.8888888888888888,
                            "#fdca26"
                          ],
                          [
                            1,
                            "#f0f921"
                          ]
                        ],
                        "type": "surface"
                      }
                    ],
                    "table": [
                      {
                        "cells": {
                          "fill": {
                            "color": "#EBF0F8"
                          },
                          "line": {
                            "color": "white"
                          }
                        },
                        "header": {
                          "fill": {
                            "color": "#C8D4E3"
                          },
                          "line": {
                            "color": "white"
                          }
                        },
                        "type": "table"
                      }
                    ]
                  },
                  "layout": {
                    "annotationdefaults": {
                      "arrowcolor": "#2a3f5f",
                      "arrowhead": 0,
                      "arrowwidth": 1
                    },
                    "autotypenumbers": "strict",
                    "coloraxis": {
                      "colorbar": {
                        "outlinewidth": 0,
                        "ticks": ""
                      }
                    },
                    "colorscale": {
                      "diverging": [
                        [
                          0,
                          "#8e0152"
                        ],
                        [
                          0.1,
                          "#c51b7d"
                        ],
                        [
                          0.2,
                          "#de77ae"
                        ],
                        [
                          0.3,
                          "#f1b6da"
                        ],
                        [
                          0.4,
                          "#fde0ef"
                        ],
                        [
                          0.5,
                          "#f7f7f7"
                        ],
                        [
                          0.6,
                          "#e6f5d0"
                        ],
                        [
                          0.7,
                          "#b8e186"
                        ],
                        [
                          0.8,
                          "#7fbc41"
                        ],
                        [
                          0.9,
                          "#4d9221"
                        ],
                        [
                          1,
                          "#276419"
                        ]
                      ],
                      "sequential": [
                        [
                          0,
                          "#0d0887"
                        ],
                        [
                          0.1111111111111111,
                          "#46039f"
                        ],
                        [
                          0.2222222222222222,
                          "#7201a8"
                        ],
                        [
                          0.3333333333333333,
                          "#9c179e"
                        ],
                        [
                          0.4444444444444444,
                          "#bd3786"
                        ],
                        [
                          0.5555555555555556,
                          "#d8576b"
                        ],
                        [
                          0.6666666666666666,
                          "#ed7953"
                        ],
                        [
                          0.7777777777777778,
                          "#fb9f3a"
                        ],
                        [
                          0.8888888888888888,
                          "#fdca26"
                        ],
                        [
                          1,
                          "#f0f921"
                        ]
                      ],
                      "sequentialminus": [
                        [
                          0,
                          "#0d0887"
                        ],
                        [
                          0.1111111111111111,
                          "#46039f"
                        ],
                        [
                          0.2222222222222222,
                          "#7201a8"
                        ],
                        [
                          0.3333333333333333,
                          "#9c179e"
                        ],
                        [
                          0.4444444444444444,
                          "#bd3786"
                        ],
                        [
                          0.5555555555555556,
                          "#d8576b"
                        ],
                        [
                          0.6666666666666666,
                          "#ed7953"
                        ],
                        [
                          0.7777777777777778,
                          "#fb9f3a"
                        ],
                        [
                          0.8888888888888888,
                          "#fdca26"
                        ],
                        [
                          1,
                          "#f0f921"
                        ]
                      ]
                    },
                    "colorway": [
                      "#636efa",
                      "#EF553B",
                      "#00cc96",
                      "#ab63fa",
                      "#FFA15A",
                      "#19d3f3",
                      "#FF6692",
                      "#B6E880",
                      "#FF97FF",
                      "#FECB52"
                    ],
                    "font": {
                      "color": "#2a3f5f"
                    },
                    "geo": {
                      "bgcolor": "white",
                      "lakecolor": "white",
                      "landcolor": "#E5ECF6",
                      "showlakes": true,
                      "showland": true,
                      "subunitcolor": "white"
                    },
                    "hoverlabel": {
                      "align": "left"
                    },
                    "hovermode": "closest",
                    "mapbox": {
                      "style": "light"
                    },
                    "paper_bgcolor": "white",
                    "plot_bgcolor": "#E5ECF6",
                    "polar": {
                      "angularaxis": {
                        "gridcolor": "white",
                        "linecolor": "white",
                        "ticks": ""
                      },
                      "bgcolor": "#E5ECF6",
                      "radialaxis": {
                        "gridcolor": "white",
                        "linecolor": "white",
                        "ticks": ""
                      }
                    },
                    "scene": {
                      "xaxis": {
                        "backgroundcolor": "#E5ECF6",
                        "gridcolor": "white",
                        "gridwidth": 2,
                        "linecolor": "white",
                        "showbackground": true,
                        "ticks": "",
                        "zerolinecolor": "white"
                      },
                      "yaxis": {
                        "backgroundcolor": "#E5ECF6",
                        "gridcolor": "white",
                        "gridwidth": 2,
                        "linecolor": "white",
                        "showbackground": true,
                        "ticks": "",
                        "zerolinecolor": "white"
                      },
                      "zaxis": {
                        "backgroundcolor": "#E5ECF6",
                        "gridcolor": "white",
                        "gridwidth": 2,
                        "linecolor": "white",
                        "showbackground": true,
                        "ticks": "",
                        "zerolinecolor": "white"
                      }
                    },
                    "shapedefaults": {
                      "line": {
                        "color": "#2a3f5f"
                      }
                    },
                    "ternary": {
                      "aaxis": {
                        "gridcolor": "white",
                        "linecolor": "white",
                        "ticks": ""
                      },
                      "baxis": {
                        "gridcolor": "white",
                        "linecolor": "white",
                        "ticks": ""
                      },
                      "bgcolor": "#E5ECF6",
                      "caxis": {
                        "gridcolor": "white",
                        "linecolor": "white",
                        "ticks": ""
                      }
                    },
                    "title": {
                      "x": 0.05
                    },
                    "xaxis": {
                      "automargin": true,
                      "gridcolor": "white",
                      "linecolor": "white",
                      "ticks": "",
                      "title": {
                        "standoff": 15
                      },
                      "zerolinecolor": "white",
                      "zerolinewidth": 2
                    },
                    "yaxis": {
                      "automargin": true,
                      "gridcolor": "white",
                      "linecolor": "white",
                      "ticks": "",
                      "title": {
                        "standoff": 15
                      },
                      "zerolinecolor": "white",
                      "zerolinewidth": 2
                    }
                  }
                },
                "xaxis": {
                  "anchor": "y",
                  "domain": [
                    0,
                    1
                  ],
                  "ticktext": [
                    0,
                    1,
                    2,
                    3,
                    4,
                    5,
                    6,
                    7,
                    8,
                    9,
                    10,
                    11,
                    12,
                    13,
                    14,
                    15,
                    16,
                    17,
                    18,
                    19,
                    20,
                    21,
                    22,
                    23,
                    24,
                    25,
                    26,
                    27,
                    28,
                    29,
                    30,
                    31,
                    32,
                    33,
                    34,
                    35,
                    36,
                    37,
                    38,
                    39,
                    40,
                    41,
                    42,
                    43,
                    44,
                    45,
                    46,
                    47,
                    48,
                    49,
                    50,
                    51,
                    52,
                    53,
                    54,
                    55,
                    56,
                    57,
                    58,
                    59,
                    60,
                    61,
                    62,
                    63,
                    64,
                    65,
                    66,
                    67,
                    68,
                    69,
                    70,
                    71,
                    72,
                    73,
                    74,
                    75,
                    76,
                    77,
                    78,
                    79,
                    80,
                    81,
                    82,
                    83,
                    84,
                    85,
                    86,
                    87,
                    88,
                    89,
                    90,
                    91,
                    92,
                    93,
                    94,
                    95,
                    96
                  ],
                  "tickvals": [
                    "1970-01-01",
                    "1970-01-02",
                    "1970-01-03",
                    "1970-01-04",
                    "1970-01-05",
                    "1970-01-06",
                    "1970-01-07",
                    "1970-01-08",
                    "1970-01-09",
                    "1970-01-10",
                    "1970-01-11",
                    "1970-01-12",
                    "1970-01-13",
                    "1970-01-14",
                    "1970-01-15",
                    "1970-01-16",
                    "1970-01-17",
                    "1970-01-18",
                    "1970-01-19",
                    "1970-01-20",
                    "1970-01-21",
                    "1970-01-22",
                    "1970-01-23",
                    "1970-01-24",
                    "1970-01-25",
                    "1970-01-26",
                    "1970-01-27",
                    "1970-01-28",
                    "1970-01-29",
                    "1970-01-30",
                    "1970-01-31",
                    "1970-02-01",
                    "1970-02-02",
                    "1970-02-03",
                    "1970-02-04",
                    "1970-02-05",
                    "1970-02-06",
                    "1970-02-07",
                    "1970-02-08",
                    "1970-02-09",
                    "1970-02-10",
                    "1970-02-11",
                    "1970-02-12",
                    "1970-02-13",
                    "1970-02-14",
                    "1970-02-15",
                    "1970-02-16",
                    "1970-02-17",
                    "1970-02-18",
                    "1970-02-19",
                    "1970-02-20",
                    "1970-02-21",
                    "1970-02-22",
                    "1970-02-23",
                    "1970-02-24",
                    "1970-02-25",
                    "1970-02-26",
                    "1970-02-27",
                    "1970-02-28",
                    "1970-03-01",
                    "1970-03-02",
                    "1970-03-03",
                    "1970-03-04",
                    "1970-03-05",
                    "1970-03-06",
                    "1970-03-07",
                    "1970-03-08",
                    "1970-03-09",
                    "1970-03-10",
                    "1970-03-11",
                    "1970-03-12",
                    "1970-03-13",
                    "1970-03-14",
                    "1970-03-15",
                    "1970-03-16",
                    "1970-03-17",
                    "1970-03-18",
                    "1970-03-19",
                    "1970-03-20",
                    "1970-03-21",
                    "1970-03-22",
                    "1970-03-23",
                    "1970-03-24",
                    "1970-03-25",
                    "1970-03-26",
                    "1970-03-27",
                    "1970-03-28",
                    "1970-03-29",
                    "1970-03-30",
                    "1970-03-31",
                    "1970-04-01",
                    "1970-04-02",
                    "1970-04-03",
                    "1970-04-04",
                    "1970-04-05",
                    "1970-04-06",
                    "1970-04-07"
                  ],
                  "type": "date"
                },
                "yaxis": {
                  "anchor": "x",
                  "autorange": "reversed",
                  "domain": [
                    0,
                    1
                  ],
                  "title": {
                    "text": "Machine"
                  }
                }
              }
            },
            "text/html": [
              "<div>                            <div id=\"05314611-d974-48c5-bcb4-2677ac7daf89\" class=\"plotly-graph-div\" style=\"height:525px; width:100%;\"></div>            <script type=\"text/javascript\">                require([\"plotly\"], function(Plotly) {                    window.PLOTLYENV=window.PLOTLYENV || {};                                    if (document.getElementById(\"05314611-d974-48c5-bcb4-2677ac7daf89\")) {                    Plotly.newPlot(                        \"05314611-d974-48c5-bcb4-2677ac7daf89\",                        [{\"alignmentgroup\":\"True\",\"base\":[\"1970-01-02\",\"1970-01-06\",\"1970-01-10\",\"1970-01-14\",\"1970-01-01\",\"1970-01-26\",\"1970-01-30\",\"1970-02-03\",\"1970-02-07\",\"1970-01-25\",\"1970-02-19\",\"1970-02-23\",\"1970-02-27\",\"1970-03-03\",\"1970-02-18\",\"1970-03-15\",\"1970-03-19\",\"1970-03-23\",\"1970-03-27\",\"1970-03-14\"],\"hovertemplate\":\"Product=CSS-1<br>Start=%{base}<br>Finish=%{x}<br>Machine=%{y}<extra></extra>\",\"legendgroup\":\"CSS-1\",\"marker\":{\"color\":\"#636efa\",\"pattern\":{\"shape\":\"\"}},\"name\":\"CSS-1\",\"offsetgroup\":\"CSS-1\",\"orientation\":\"h\",\"showlegend\":true,\"textposition\":\"auto\",\"x\":[345600000.0,345600000.0,345600000.0,86400000.0,86400000.0,345600000.0,345600000.0,345600000.0,86400000.0,86400000.0,345600000.0,345600000.0,345600000.0,86400000.0,86400000.0,345600000.0,345600000.0,345600000.0,86400000.0,86400000.0],\"xaxis\":\"x\",\"y\":[\"FBU-1\",\"Slik-1\",\"CTU-1\",\"Drill-1\",\"Maintenance-1\",\"FBU-1\",\"Slik-1\",\"CTU-1\",\"Drill-1\",\"Maintenance-1\",\"FBU-1\",\"Slik-1\",\"CTU-1\",\"Drill-1\",\"Maintenance-1\",\"FBU-1\",\"Slik-1\",\"CTU-1\",\"Drill-1\",\"Maintenance-1\"],\"yaxis\":\"y\",\"type\":\"bar\"},{\"alignmentgroup\":\"True\",\"base\":[\"1970-01-02\",\"1970-01-06\",\"1970-01-10\",\"1970-01-14\",\"1970-01-01\",\"1970-01-26\",\"1970-01-30\",\"1970-02-03\",\"1970-02-07\",\"1970-01-25\",\"1970-02-19\",\"1970-02-23\",\"1970-02-27\",\"1970-03-03\",\"1970-02-18\",\"1970-03-15\",\"1970-03-19\",\"1970-03-23\",\"1970-03-27\",\"1970-03-14\"],\"hovertemplate\":\"Product=CSS-2<br>Start=%{base}<br>Finish=%{x}<br>Machine=%{y}<extra></extra>\",\"legendgroup\":\"CSS-2\",\"marker\":{\"color\":\"#EF553B\",\"pattern\":{\"shape\":\"\"}},\"name\":\"CSS-2\",\"offsetgroup\":\"CSS-2\",\"orientation\":\"h\",\"showlegend\":true,\"textposition\":\"auto\",\"x\":[345600000.0,345600000.0,345600000.0,86400000.0,86400000.0,345600000.0,345600000.0,345600000.0,86400000.0,86400000.0,345600000.0,345600000.0,345600000.0,86400000.0,86400000.0,345600000.0,345600000.0,345600000.0,86400000.0,86400000.0],\"xaxis\":\"x\",\"y\":[\"FBU-2\",\"Slik-2\",\"CTU-2\",\"Drill-2\",\"Maintenance-2\",\"FBU-2\",\"Slik-2\",\"CTU-2\",\"Drill-2\",\"Maintenance-2\",\"FBU-2\",\"Slik-2\",\"CTU-2\",\"Drill-2\",\"Maintenance-2\",\"FBU-2\",\"Slik-2\",\"CTU-2\",\"Drill-2\",\"Maintenance-2\"],\"yaxis\":\"y\",\"type\":\"bar\"},{\"alignmentgroup\":\"True\",\"base\":[\"1970-01-02\",\"1970-01-06\",\"1970-01-10\",\"1970-01-14\",\"1970-01-01\",\"1970-01-26\",\"1970-01-30\",\"1970-02-03\",\"1970-02-07\",\"1970-01-25\",\"1970-02-19\",\"1970-02-23\",\"1970-02-27\",\"1970-03-03\",\"1970-02-18\",\"1970-03-15\",\"1970-03-19\",\"1970-03-23\",\"1970-03-27\",\"1970-03-14\"],\"hovertemplate\":\"Product=CSS-3<br>Start=%{base}<br>Finish=%{x}<br>Machine=%{y}<extra></extra>\",\"legendgroup\":\"CSS-3\",\"marker\":{\"color\":\"#00cc96\",\"pattern\":{\"shape\":\"\"}},\"name\":\"CSS-3\",\"offsetgroup\":\"CSS-3\",\"orientation\":\"h\",\"showlegend\":true,\"textposition\":\"auto\",\"x\":[345600000.0,345600000.0,345600000.0,86400000.0,86400000.0,345600000.0,345600000.0,345600000.0,86400000.0,86400000.0,345600000.0,345600000.0,345600000.0,86400000.0,86400000.0,345600000.0,345600000.0,345600000.0,86400000.0,86400000.0],\"xaxis\":\"x\",\"y\":[\"FBU-3\",\"Slik-3\",\"CTU-3\",\"Drill-3\",\"Maintenance-3\",\"FBU-3\",\"Slik-3\",\"CTU-3\",\"Drill-3\",\"Maintenance-3\",\"FBU-3\",\"Slik-3\",\"CTU-3\",\"Drill-3\",\"Maintenance-3\",\"FBU-3\",\"Slik-3\",\"CTU-3\",\"Drill-3\",\"Maintenance-3\"],\"yaxis\":\"y\",\"type\":\"bar\"},{\"alignmentgroup\":\"True\",\"base\":[\"1970-01-02\",\"1970-01-06\",\"1970-01-10\",\"1970-01-14\",\"1970-01-01\",\"1970-01-26\",\"1970-01-30\",\"1970-02-03\",\"1970-02-07\",\"1970-01-25\",\"1970-02-19\",\"1970-02-23\",\"1970-02-27\",\"1970-03-03\",\"1970-02-18\",\"1970-03-16\",\"1970-03-20\",\"1970-03-24\",\"1970-03-28\",\"1970-03-15\"],\"hovertemplate\":\"Product=CSS-4<br>Start=%{base}<br>Finish=%{x}<br>Machine=%{y}<extra></extra>\",\"legendgroup\":\"CSS-4\",\"marker\":{\"color\":\"#ab63fa\",\"pattern\":{\"shape\":\"\"}},\"name\":\"CSS-4\",\"offsetgroup\":\"CSS-4\",\"orientation\":\"h\",\"showlegend\":true,\"textposition\":\"auto\",\"x\":[345600000.0,345600000.0,345600000.0,86400000.0,86400000.0,345600000.0,345600000.0,345600000.0,86400000.0,86400000.0,345600000.0,345600000.0,345600000.0,86400000.0,86400000.0,345600000.0,345600000.0,345600000.0,86400000.0,86400000.0],\"xaxis\":\"x\",\"y\":[\"FBU-4\",\"Slik-4\",\"CTU-4\",\"Drill-4\",\"Maintenance-4\",\"FBU-4\",\"Slik-4\",\"CTU-4\",\"Drill-4\",\"Maintenance-4\",\"FBU-4\",\"Slik-4\",\"CTU-4\",\"Drill-4\",\"Maintenance-4\",\"FBU-4\",\"Slik-4\",\"CTU-4\",\"Drill-4\",\"Maintenance-1\"],\"yaxis\":\"y\",\"type\":\"bar\"},{\"alignmentgroup\":\"True\",\"base\":[\"1970-01-06\",\"1970-01-10\",\"1970-01-30\",\"1970-02-03\",\"1970-02-23\",\"1970-02-27\",\"1970-03-19\",\"1970-03-23\"],\"hovertemplate\":\"Product=Fixback-1<br>Start=%{base}<br>Finish=%{x}<br>Machine=%{y}<extra></extra>\",\"legendgroup\":\"Fixback-1\",\"marker\":{\"color\":\"#FFA15A\",\"pattern\":{\"shape\":\"\"}},\"name\":\"Fixback-1\",\"offsetgroup\":\"Fixback-1\",\"orientation\":\"h\",\"showlegend\":true,\"textposition\":\"auto\",\"x\":[345600000.0,86400000.0,345600000.0,86400000.0,345600000.0,86400000.0,345600000.0,86400000.0],\"xaxis\":\"x\",\"y\":[\"FBU-1\",\"Maintenance-1\",\"FBU-1\",\"Maintenance-1\",\"FBU-1\",\"Maintenance-1\",\"FBU-1\",\"Maintenance-2\"],\"yaxis\":\"y\",\"type\":\"bar\"},{\"alignmentgroup\":\"True\",\"base\":[\"1970-01-06\",\"1970-01-10\",\"1970-01-30\",\"1970-02-03\",\"1970-02-23\",\"1970-02-27\",\"1970-03-19\",\"1970-03-23\"],\"hovertemplate\":\"Product=Fixback-2<br>Start=%{base}<br>Finish=%{x}<br>Machine=%{y}<extra></extra>\",\"legendgroup\":\"Fixback-2\",\"marker\":{\"color\":\"#19d3f3\",\"pattern\":{\"shape\":\"\"}},\"name\":\"Fixback-2\",\"offsetgroup\":\"Fixback-2\",\"orientation\":\"h\",\"showlegend\":true,\"textposition\":\"auto\",\"x\":[345600000.0,86400000.0,345600000.0,86400000.0,345600000.0,86400000.0,345600000.0,86400000.0],\"xaxis\":\"x\",\"y\":[\"FBU-2\",\"Maintenance-2\",\"FBU-2\",\"Maintenance-2\",\"FBU-2\",\"Maintenance-2\",\"FBU-2\",\"Maintenance-3\"],\"yaxis\":\"y\",\"type\":\"bar\"},{\"alignmentgroup\":\"True\",\"base\":[\"1970-01-06\",\"1970-01-10\",\"1970-01-30\",\"1970-02-03\",\"1970-02-23\",\"1970-02-27\",\"1970-03-19\",\"1970-03-23\"],\"hovertemplate\":\"Product=Fixback-3<br>Start=%{base}<br>Finish=%{x}<br>Machine=%{y}<extra></extra>\",\"legendgroup\":\"Fixback-3\",\"marker\":{\"color\":\"#FF6692\",\"pattern\":{\"shape\":\"\"}},\"name\":\"Fixback-3\",\"offsetgroup\":\"Fixback-3\",\"orientation\":\"h\",\"showlegend\":true,\"textposition\":\"auto\",\"x\":[345600000.0,86400000.0,345600000.0,86400000.0,345600000.0,86400000.0,345600000.0,86400000.0],\"xaxis\":\"x\",\"y\":[\"FBU-3\",\"Maintenance-3\",\"FBU-3\",\"Maintenance-3\",\"FBU-3\",\"Maintenance-3\",\"FBU-3\",\"Maintenance-1\"],\"yaxis\":\"y\",\"type\":\"bar\"},{\"alignmentgroup\":\"True\",\"base\":[\"1970-01-06\",\"1970-01-10\",\"1970-01-30\",\"1970-02-03\",\"1970-02-23\",\"1970-02-27\",\"1970-03-20\",\"1970-03-24\"],\"hovertemplate\":\"Product=Fixback-4<br>Start=%{base}<br>Finish=%{x}<br>Machine=%{y}<extra></extra>\",\"legendgroup\":\"Fixback-4\",\"marker\":{\"color\":\"#B6E880\",\"pattern\":{\"shape\":\"\"}},\"name\":\"Fixback-4\",\"offsetgroup\":\"Fixback-4\",\"orientation\":\"h\",\"showlegend\":true,\"textposition\":\"auto\",\"x\":[345600000.0,86400000.0,345600000.0,86400000.0,345600000.0,86400000.0,345600000.0,86400000.0],\"xaxis\":\"x\",\"y\":[\"FBU-4\",\"Maintenance-4\",\"FBU-4\",\"Maintenance-4\",\"FBU-4\",\"Maintenance-4\",\"FBU-4\",\"Maintenance-2\"],\"yaxis\":\"y\",\"type\":\"bar\"},{\"alignmentgroup\":\"True\",\"base\":[\"1970-01-11\",\"1970-01-12\",\"1970-01-16\",\"1970-02-04\",\"1970-02-05\",\"1970-02-09\",\"1970-02-28\",\"1970-03-01\",\"1970-03-05\",\"1970-03-24\",\"1970-03-25\",\"1970-03-29\"],\"hovertemplate\":\"Product=Restore-1<br>Start=%{base}<br>Finish=%{x}<br>Machine=%{y}<extra></extra>\",\"legendgroup\":\"Restore-1\",\"marker\":{\"color\":\"#FF97FF\",\"pattern\":{\"shape\":\"\"}},\"name\":\"Restore-1\",\"offsetgroup\":\"Restore-1\",\"orientation\":\"h\",\"showlegend\":true,\"textposition\":\"auto\",\"x\":[86400000.0,345600000.0,86400000.0,86400000.0,345600000.0,86400000.0,86400000.0,345600000.0,86400000.0,86400000.0,345600000.0,86400000.0],\"xaxis\":\"x\",\"y\":[\"Maintenance-1\",\"FBU-1\",\"Maintenance-2\",\"Maintenance-1\",\"FBU-1\",\"Maintenance-2\",\"Maintenance-1\",\"FBU-1\",\"Maintenance-2\",\"Maintenance-3\",\"FBU-1\",\"Maintenance-1\"],\"yaxis\":\"y\",\"type\":\"bar\"},{\"alignmentgroup\":\"True\",\"base\":[\"1970-01-11\",\"1970-01-12\",\"1970-01-16\",\"1970-02-04\",\"1970-02-05\",\"1970-02-09\",\"1970-02-28\",\"1970-03-01\",\"1970-03-05\",\"1970-03-25\",\"1970-03-26\",\"1970-03-30\"],\"hovertemplate\":\"Product=Restore-2<br>Start=%{base}<br>Finish=%{x}<br>Machine=%{y}<extra></extra>\",\"legendgroup\":\"Restore-2\",\"marker\":{\"color\":\"#FECB52\",\"pattern\":{\"shape\":\"\"}},\"name\":\"Restore-2\",\"offsetgroup\":\"Restore-2\",\"orientation\":\"h\",\"showlegend\":true,\"textposition\":\"auto\",\"x\":[86400000.0,345600000.0,86400000.0,86400000.0,345600000.0,86400000.0,86400000.0,345600000.0,86400000.0,86400000.0,345600000.0,86400000.0],\"xaxis\":\"x\",\"y\":[\"Maintenance-3\",\"FBU-2\",\"Maintenance-4\",\"Maintenance-3\",\"FBU-2\",\"Maintenance-4\",\"Maintenance-3\",\"FBU-2\",\"Maintenance-4\",\"Maintenance-2\",\"FBU-2\",\"Maintenance-3\"],\"yaxis\":\"y\",\"type\":\"bar\"},{\"alignmentgroup\":\"True\",\"base\":[\"1970-01-12\",\"1970-02-05\",\"1970-03-01\",\"1970-03-30\"],\"hovertemplate\":\"Product=Declearance-1<br>Start=%{base}<br>Finish=%{x}<br>Machine=%{y}<extra></extra>\",\"legendgroup\":\"Declearance-1\",\"marker\":{\"color\":\"#636efa\",\"pattern\":{\"shape\":\"\"}},\"name\":\"Declearance-1\",\"offsetgroup\":\"Declearance-1\",\"orientation\":\"h\",\"showlegend\":true,\"textposition\":\"auto\",\"x\":[345600000.0,345600000.0,345600000.0,345600000.0],\"xaxis\":\"x\",\"y\":[\"Maintenance-1\",\"Maintenance-1\",\"Maintenance-1\",\"Maintenance-1\"],\"yaxis\":\"y\",\"type\":\"bar\"},{\"alignmentgroup\":\"True\",\"base\":[\"1970-03-14\"],\"hovertemplate\":\"Product=Clearance-1<br>Start=%{base}<br>Finish=%{x}<br>Machine=%{y}<extra></extra>\",\"legendgroup\":\"Clearance-1\",\"marker\":{\"color\":\"#EF553B\",\"pattern\":{\"shape\":\"\"}},\"name\":\"Clearance-1\",\"offsetgroup\":\"Clearance-1\",\"orientation\":\"h\",\"showlegend\":true,\"textposition\":\"auto\",\"x\":[432000000.0],\"xaxis\":\"x\",\"y\":[\"Maintenance-4\"],\"yaxis\":\"y\",\"type\":\"bar\"}],                        {\"template\":{\"data\":{\"histogram2dcontour\":[{\"type\":\"histogram2dcontour\",\"colorbar\":{\"outlinewidth\":0,\"ticks\":\"\"},\"colorscale\":[[0.0,\"#0d0887\"],[0.1111111111111111,\"#46039f\"],[0.2222222222222222,\"#7201a8\"],[0.3333333333333333,\"#9c179e\"],[0.4444444444444444,\"#bd3786\"],[0.5555555555555556,\"#d8576b\"],[0.6666666666666666,\"#ed7953\"],[0.7777777777777778,\"#fb9f3a\"],[0.8888888888888888,\"#fdca26\"],[1.0,\"#f0f921\"]]}],\"choropleth\":[{\"type\":\"choropleth\",\"colorbar\":{\"outlinewidth\":0,\"ticks\":\"\"}}],\"histogram2d\":[{\"type\":\"histogram2d\",\"colorbar\":{\"outlinewidth\":0,\"ticks\":\"\"},\"colorscale\":[[0.0,\"#0d0887\"],[0.1111111111111111,\"#46039f\"],[0.2222222222222222,\"#7201a8\"],[0.3333333333333333,\"#9c179e\"],[0.4444444444444444,\"#bd3786\"],[0.5555555555555556,\"#d8576b\"],[0.6666666666666666,\"#ed7953\"],[0.7777777777777778,\"#fb9f3a\"],[0.8888888888888888,\"#fdca26\"],[1.0,\"#f0f921\"]]}],\"heatmap\":[{\"type\":\"heatmap\",\"colorbar\":{\"outlinewidth\":0,\"ticks\":\"\"},\"colorscale\":[[0.0,\"#0d0887\"],[0.1111111111111111,\"#46039f\"],[0.2222222222222222,\"#7201a8\"],[0.3333333333333333,\"#9c179e\"],[0.4444444444444444,\"#bd3786\"],[0.5555555555555556,\"#d8576b\"],[0.6666666666666666,\"#ed7953\"],[0.7777777777777778,\"#fb9f3a\"],[0.8888888888888888,\"#fdca26\"],[1.0,\"#f0f921\"]]}],\"heatmapgl\":[{\"type\":\"heatmapgl\",\"colorbar\":{\"outlinewidth\":0,\"ticks\":\"\"},\"colorscale\":[[0.0,\"#0d0887\"],[0.1111111111111111,\"#46039f\"],[0.2222222222222222,\"#7201a8\"],[0.3333333333333333,\"#9c179e\"],[0.4444444444444444,\"#bd3786\"],[0.5555555555555556,\"#d8576b\"],[0.6666666666666666,\"#ed7953\"],[0.7777777777777778,\"#fb9f3a\"],[0.8888888888888888,\"#fdca26\"],[1.0,\"#f0f921\"]]}],\"contourcarpet\":[{\"type\":\"contourcarpet\",\"colorbar\":{\"outlinewidth\":0,\"ticks\":\"\"}}],\"contour\":[{\"type\":\"contour\",\"colorbar\":{\"outlinewidth\":0,\"ticks\":\"\"},\"colorscale\":[[0.0,\"#0d0887\"],[0.1111111111111111,\"#46039f\"],[0.2222222222222222,\"#7201a8\"],[0.3333333333333333,\"#9c179e\"],[0.4444444444444444,\"#bd3786\"],[0.5555555555555556,\"#d8576b\"],[0.6666666666666666,\"#ed7953\"],[0.7777777777777778,\"#fb9f3a\"],[0.8888888888888888,\"#fdca26\"],[1.0,\"#f0f921\"]]}],\"surface\":[{\"type\":\"surface\",\"colorbar\":{\"outlinewidth\":0,\"ticks\":\"\"},\"colorscale\":[[0.0,\"#0d0887\"],[0.1111111111111111,\"#46039f\"],[0.2222222222222222,\"#7201a8\"],[0.3333333333333333,\"#9c179e\"],[0.4444444444444444,\"#bd3786\"],[0.5555555555555556,\"#d8576b\"],[0.6666666666666666,\"#ed7953\"],[0.7777777777777778,\"#fb9f3a\"],[0.8888888888888888,\"#fdca26\"],[1.0,\"#f0f921\"]]}],\"mesh3d\":[{\"type\":\"mesh3d\",\"colorbar\":{\"outlinewidth\":0,\"ticks\":\"\"}}],\"scatter\":[{\"fillpattern\":{\"fillmode\":\"overlay\",\"size\":10,\"solidity\":0.2},\"type\":\"scatter\"}],\"parcoords\":[{\"type\":\"parcoords\",\"line\":{\"colorbar\":{\"outlinewidth\":0,\"ticks\":\"\"}}}],\"scatterpolargl\":[{\"type\":\"scatterpolargl\",\"marker\":{\"colorbar\":{\"outlinewidth\":0,\"ticks\":\"\"}}}],\"bar\":[{\"error_x\":{\"color\":\"#2a3f5f\"},\"error_y\":{\"color\":\"#2a3f5f\"},\"marker\":{\"line\":{\"color\":\"#E5ECF6\",\"width\":0.5},\"pattern\":{\"fillmode\":\"overlay\",\"size\":10,\"solidity\":0.2}},\"type\":\"bar\"}],\"scattergeo\":[{\"type\":\"scattergeo\",\"marker\":{\"colorbar\":{\"outlinewidth\":0,\"ticks\":\"\"}}}],\"scatterpolar\":[{\"type\":\"scatterpolar\",\"marker\":{\"colorbar\":{\"outlinewidth\":0,\"ticks\":\"\"}}}],\"histogram\":[{\"marker\":{\"pattern\":{\"fillmode\":\"overlay\",\"size\":10,\"solidity\":0.2}},\"type\":\"histogram\"}],\"scattergl\":[{\"type\":\"scattergl\",\"marker\":{\"colorbar\":{\"outlinewidth\":0,\"ticks\":\"\"}}}],\"scatter3d\":[{\"type\":\"scatter3d\",\"line\":{\"colorbar\":{\"outlinewidth\":0,\"ticks\":\"\"}},\"marker\":{\"colorbar\":{\"outlinewidth\":0,\"ticks\":\"\"}}}],\"scattermapbox\":[{\"type\":\"scattermapbox\",\"marker\":{\"colorbar\":{\"outlinewidth\":0,\"ticks\":\"\"}}}],\"scatterternary\":[{\"type\":\"scatterternary\",\"marker\":{\"colorbar\":{\"outlinewidth\":0,\"ticks\":\"\"}}}],\"scattercarpet\":[{\"type\":\"scattercarpet\",\"marker\":{\"colorbar\":{\"outlinewidth\":0,\"ticks\":\"\"}}}],\"carpet\":[{\"aaxis\":{\"endlinecolor\":\"#2a3f5f\",\"gridcolor\":\"white\",\"linecolor\":\"white\",\"minorgridcolor\":\"white\",\"startlinecolor\":\"#2a3f5f\"},\"baxis\":{\"endlinecolor\":\"#2a3f5f\",\"gridcolor\":\"white\",\"linecolor\":\"white\",\"minorgridcolor\":\"white\",\"startlinecolor\":\"#2a3f5f\"},\"type\":\"carpet\"}],\"table\":[{\"cells\":{\"fill\":{\"color\":\"#EBF0F8\"},\"line\":{\"color\":\"white\"}},\"header\":{\"fill\":{\"color\":\"#C8D4E3\"},\"line\":{\"color\":\"white\"}},\"type\":\"table\"}],\"barpolar\":[{\"marker\":{\"line\":{\"color\":\"#E5ECF6\",\"width\":0.5},\"pattern\":{\"fillmode\":\"overlay\",\"size\":10,\"solidity\":0.2}},\"type\":\"barpolar\"}],\"pie\":[{\"automargin\":true,\"type\":\"pie\"}]},\"layout\":{\"autotypenumbers\":\"strict\",\"colorway\":[\"#636efa\",\"#EF553B\",\"#00cc96\",\"#ab63fa\",\"#FFA15A\",\"#19d3f3\",\"#FF6692\",\"#B6E880\",\"#FF97FF\",\"#FECB52\"],\"font\":{\"color\":\"#2a3f5f\"},\"hovermode\":\"closest\",\"hoverlabel\":{\"align\":\"left\"},\"paper_bgcolor\":\"white\",\"plot_bgcolor\":\"#E5ECF6\",\"polar\":{\"bgcolor\":\"#E5ECF6\",\"angularaxis\":{\"gridcolor\":\"white\",\"linecolor\":\"white\",\"ticks\":\"\"},\"radialaxis\":{\"gridcolor\":\"white\",\"linecolor\":\"white\",\"ticks\":\"\"}},\"ternary\":{\"bgcolor\":\"#E5ECF6\",\"aaxis\":{\"gridcolor\":\"white\",\"linecolor\":\"white\",\"ticks\":\"\"},\"baxis\":{\"gridcolor\":\"white\",\"linecolor\":\"white\",\"ticks\":\"\"},\"caxis\":{\"gridcolor\":\"white\",\"linecolor\":\"white\",\"ticks\":\"\"}},\"coloraxis\":{\"colorbar\":{\"outlinewidth\":0,\"ticks\":\"\"}},\"colorscale\":{\"sequential\":[[0.0,\"#0d0887\"],[0.1111111111111111,\"#46039f\"],[0.2222222222222222,\"#7201a8\"],[0.3333333333333333,\"#9c179e\"],[0.4444444444444444,\"#bd3786\"],[0.5555555555555556,\"#d8576b\"],[0.6666666666666666,\"#ed7953\"],[0.7777777777777778,\"#fb9f3a\"],[0.8888888888888888,\"#fdca26\"],[1.0,\"#f0f921\"]],\"sequentialminus\":[[0.0,\"#0d0887\"],[0.1111111111111111,\"#46039f\"],[0.2222222222222222,\"#7201a8\"],[0.3333333333333333,\"#9c179e\"],[0.4444444444444444,\"#bd3786\"],[0.5555555555555556,\"#d8576b\"],[0.6666666666666666,\"#ed7953\"],[0.7777777777777778,\"#fb9f3a\"],[0.8888888888888888,\"#fdca26\"],[1.0,\"#f0f921\"]],\"diverging\":[[0,\"#8e0152\"],[0.1,\"#c51b7d\"],[0.2,\"#de77ae\"],[0.3,\"#f1b6da\"],[0.4,\"#fde0ef\"],[0.5,\"#f7f7f7\"],[0.6,\"#e6f5d0\"],[0.7,\"#b8e186\"],[0.8,\"#7fbc41\"],[0.9,\"#4d9221\"],[1,\"#276419\"]]},\"xaxis\":{\"gridcolor\":\"white\",\"linecolor\":\"white\",\"ticks\":\"\",\"title\":{\"standoff\":15},\"zerolinecolor\":\"white\",\"automargin\":true,\"zerolinewidth\":2},\"yaxis\":{\"gridcolor\":\"white\",\"linecolor\":\"white\",\"ticks\":\"\",\"title\":{\"standoff\":15},\"zerolinecolor\":\"white\",\"automargin\":true,\"zerolinewidth\":2},\"scene\":{\"xaxis\":{\"backgroundcolor\":\"#E5ECF6\",\"gridcolor\":\"white\",\"linecolor\":\"white\",\"showbackground\":true,\"ticks\":\"\",\"zerolinecolor\":\"white\",\"gridwidth\":2},\"yaxis\":{\"backgroundcolor\":\"#E5ECF6\",\"gridcolor\":\"white\",\"linecolor\":\"white\",\"showbackground\":true,\"ticks\":\"\",\"zerolinecolor\":\"white\",\"gridwidth\":2},\"zaxis\":{\"backgroundcolor\":\"#E5ECF6\",\"gridcolor\":\"white\",\"linecolor\":\"white\",\"showbackground\":true,\"ticks\":\"\",\"zerolinecolor\":\"white\",\"gridwidth\":2}},\"shapedefaults\":{\"line\":{\"color\":\"#2a3f5f\"}},\"annotationdefaults\":{\"arrowcolor\":\"#2a3f5f\",\"arrowhead\":0,\"arrowwidth\":1},\"geo\":{\"bgcolor\":\"white\",\"landcolor\":\"#E5ECF6\",\"subunitcolor\":\"white\",\"showland\":true,\"showlakes\":true,\"lakecolor\":\"white\"},\"title\":{\"x\":0.05},\"mapbox\":{\"style\":\"light\"}}},\"xaxis\":{\"anchor\":\"y\",\"domain\":[0.0,1.0],\"type\":\"date\",\"tickvals\":[\"1970-01-01\",\"1970-01-02\",\"1970-01-03\",\"1970-01-04\",\"1970-01-05\",\"1970-01-06\",\"1970-01-07\",\"1970-01-08\",\"1970-01-09\",\"1970-01-10\",\"1970-01-11\",\"1970-01-12\",\"1970-01-13\",\"1970-01-14\",\"1970-01-15\",\"1970-01-16\",\"1970-01-17\",\"1970-01-18\",\"1970-01-19\",\"1970-01-20\",\"1970-01-21\",\"1970-01-22\",\"1970-01-23\",\"1970-01-24\",\"1970-01-25\",\"1970-01-26\",\"1970-01-27\",\"1970-01-28\",\"1970-01-29\",\"1970-01-30\",\"1970-01-31\",\"1970-02-01\",\"1970-02-02\",\"1970-02-03\",\"1970-02-04\",\"1970-02-05\",\"1970-02-06\",\"1970-02-07\",\"1970-02-08\",\"1970-02-09\",\"1970-02-10\",\"1970-02-11\",\"1970-02-12\",\"1970-02-13\",\"1970-02-14\",\"1970-02-15\",\"1970-02-16\",\"1970-02-17\",\"1970-02-18\",\"1970-02-19\",\"1970-02-20\",\"1970-02-21\",\"1970-02-22\",\"1970-02-23\",\"1970-02-24\",\"1970-02-25\",\"1970-02-26\",\"1970-02-27\",\"1970-02-28\",\"1970-03-01\",\"1970-03-02\",\"1970-03-03\",\"1970-03-04\",\"1970-03-05\",\"1970-03-06\",\"1970-03-07\",\"1970-03-08\",\"1970-03-09\",\"1970-03-10\",\"1970-03-11\",\"1970-03-12\",\"1970-03-13\",\"1970-03-14\",\"1970-03-15\",\"1970-03-16\",\"1970-03-17\",\"1970-03-18\",\"1970-03-19\",\"1970-03-20\",\"1970-03-21\",\"1970-03-22\",\"1970-03-23\",\"1970-03-24\",\"1970-03-25\",\"1970-03-26\",\"1970-03-27\",\"1970-03-28\",\"1970-03-29\",\"1970-03-30\",\"1970-03-31\",\"1970-04-01\",\"1970-04-02\",\"1970-04-03\",\"1970-04-04\",\"1970-04-05\",\"1970-04-06\",\"1970-04-07\"],\"ticktext\":[0,1,2,3,4,5,6,7,8,9,10,11,12,13,14,15,16,17,18,19,20,21,22,23,24,25,26,27,28,29,30,31,32,33,34,35,36,37,38,39,40,41,42,43,44,45,46,47,48,49,50,51,52,53,54,55,56,57,58,59,60,61,62,63,64,65,66,67,68,69,70,71,72,73,74,75,76,77,78,79,80,81,82,83,84,85,86,87,88,89,90,91,92,93,94,95,96]},\"yaxis\":{\"anchor\":\"x\",\"domain\":[0.0,1.0],\"title\":{\"text\":\"Machine\"},\"autorange\":\"reversed\"},\"legend\":{\"title\":{\"text\":\"Product\"},\"tracegroupgap\":0},\"margin\":{\"t\":60},\"barmode\":\"overlay\"},                        {\"responsive\": true}                    ).then(function(){\n",
              "                            \n",
              "var gd = document.getElementById('05314611-d974-48c5-bcb4-2677ac7daf89');\n",
              "var x = new MutationObserver(function (mutations, observer) {{\n",
              "        var display = window.getComputedStyle(gd).display;\n",
              "        if (!display || display === 'none') {{\n",
              "            console.log([gd, 'removed!']);\n",
              "            Plotly.purge(gd);\n",
              "            observer.disconnect();\n",
              "        }}\n",
              "}});\n",
              "\n",
              "// Listen for the removal of the full notebook cells\n",
              "var notebookContainer = gd.closest('#notebook-container');\n",
              "if (notebookContainer) {{\n",
              "    x.observe(notebookContainer, {childList: true});\n",
              "}}\n",
              "\n",
              "// Listen for the clearing of the current output cell\n",
              "var outputEl = gd.closest('.output');\n",
              "if (outputEl) {{\n",
              "    x.observe(outputEl, {childList: true});\n",
              "}}\n",
              "\n",
              "                        })                };                });            </script>        </div>"
            ]
          },
          "metadata": {},
          "output_type": "display_data"
        }
      ],
      "source": [
        "layout_type = 1     # 1 for machine type | 2 for product type\n",
        "\n",
        "if layout_type == 1:\n",
        "    fig = px.timeline(df, x_start=\"Start\", x_end=\"Finish\",\n",
        "                      y=\"Machine\", color=\"Product\")\n",
        "else:\n",
        "    fig = px.timeline(df, x_start=\"Start\", x_end=\"Finish\",\n",
        "                      y=\"Product\", color=\"Machine\")\n",
        "\n",
        "num_tick_labels = np.linspace(start=0, stop=D * 24, num=D * 24 + 1, dtype=int)\n",
        "date_ticks = [c_datetime(x) for x in num_tick_labels]\n",
        "fig.layout.xaxis.update({\n",
        "    'tickvals': date_ticks,\n",
        "    'ticktext': num_tick_labels\n",
        "})\n",
        "fig.update_yaxes(autorange=\"reversed\")\n",
        "fig.show()\n",
        "h = {}"
      ]
    },
    {
      "cell_type": "code",
      "execution_count": 37,
      "metadata": {
        "colab": {
          "base_uri": "https://localhost:8080/",
          "height": 542
        },
        "id": "gZGjmNO-HQJ-",
        "outputId": "474006b5-036f-4b2b-f6ed-f1d496a944ca"
      },
      "outputs": [
        {
          "data": {
            "application/vnd.plotly.v1+json": {
              "config": {
                "plotlyServerURL": "https://plot.ly"
              },
              "data": [
                {
                  "alignmentgroup": "True",
                  "base": [
                    "1970-01-02",
                    "1970-01-06",
                    "1970-01-12",
                    "1970-01-26",
                    "1970-01-30",
                    "1970-02-05",
                    "1970-02-19",
                    "1970-02-23",
                    "1970-03-01",
                    "1970-03-15",
                    "1970-03-19",
                    "1970-03-25"
                  ],
                  "hovertemplate": "Machine=FBU-1<br>Start=%{base}<br>Finish=%{x}<br>Product=%{y}<extra></extra>",
                  "legendgroup": "FBU-1",
                  "marker": {
                    "color": "#636efa",
                    "pattern": {
                      "shape": ""
                    }
                  },
                  "name": "FBU-1",
                  "offsetgroup": "FBU-1",
                  "orientation": "h",
                  "showlegend": true,
                  "textposition": "auto",
                  "type": "bar",
                  "x": [
                    345600000,
                    345600000,
                    345600000,
                    345600000,
                    345600000,
                    345600000,
                    345600000,
                    345600000,
                    345600000,
                    345600000,
                    345600000,
                    345600000
                  ],
                  "xaxis": "x",
                  "y": [
                    "CSS-1",
                    "Fixback-1",
                    "Restore-1",
                    "CSS-1",
                    "Fixback-1",
                    "Restore-1",
                    "CSS-1",
                    "Fixback-1",
                    "Restore-1",
                    "CSS-1",
                    "Fixback-1",
                    "Restore-1"
                  ],
                  "yaxis": "y"
                },
                {
                  "alignmentgroup": "True",
                  "base": [
                    "1970-01-02",
                    "1970-01-06",
                    "1970-01-12",
                    "1970-01-26",
                    "1970-01-30",
                    "1970-02-05",
                    "1970-02-19",
                    "1970-02-23",
                    "1970-03-01",
                    "1970-03-15",
                    "1970-03-19",
                    "1970-03-26"
                  ],
                  "hovertemplate": "Machine=FBU-2<br>Start=%{base}<br>Finish=%{x}<br>Product=%{y}<extra></extra>",
                  "legendgroup": "FBU-2",
                  "marker": {
                    "color": "#EF553B",
                    "pattern": {
                      "shape": ""
                    }
                  },
                  "name": "FBU-2",
                  "offsetgroup": "FBU-2",
                  "orientation": "h",
                  "showlegend": true,
                  "textposition": "auto",
                  "type": "bar",
                  "x": [
                    345600000,
                    345600000,
                    345600000,
                    345600000,
                    345600000,
                    345600000,
                    345600000,
                    345600000,
                    345600000,
                    345600000,
                    345600000,
                    345600000
                  ],
                  "xaxis": "x",
                  "y": [
                    "CSS-2",
                    "Fixback-2",
                    "Restore-2",
                    "CSS-2",
                    "Fixback-2",
                    "Restore-2",
                    "CSS-2",
                    "Fixback-2",
                    "Restore-2",
                    "CSS-2",
                    "Fixback-2",
                    "Restore-2"
                  ],
                  "yaxis": "y"
                },
                {
                  "alignmentgroup": "True",
                  "base": [
                    "1970-01-02",
                    "1970-01-06",
                    "1970-01-26",
                    "1970-01-30",
                    "1970-02-19",
                    "1970-02-23",
                    "1970-03-15",
                    "1970-03-19"
                  ],
                  "hovertemplate": "Machine=FBU-3<br>Start=%{base}<br>Finish=%{x}<br>Product=%{y}<extra></extra>",
                  "legendgroup": "FBU-3",
                  "marker": {
                    "color": "#00cc96",
                    "pattern": {
                      "shape": ""
                    }
                  },
                  "name": "FBU-3",
                  "offsetgroup": "FBU-3",
                  "orientation": "h",
                  "showlegend": true,
                  "textposition": "auto",
                  "type": "bar",
                  "x": [
                    345600000,
                    345600000,
                    345600000,
                    345600000,
                    345600000,
                    345600000,
                    345600000,
                    345600000
                  ],
                  "xaxis": "x",
                  "y": [
                    "CSS-3",
                    "Fixback-3",
                    "CSS-3",
                    "Fixback-3",
                    "CSS-3",
                    "Fixback-3",
                    "CSS-3",
                    "Fixback-3"
                  ],
                  "yaxis": "y"
                },
                {
                  "alignmentgroup": "True",
                  "base": [
                    "1970-01-02",
                    "1970-01-06",
                    "1970-01-26",
                    "1970-01-30",
                    "1970-02-19",
                    "1970-02-23",
                    "1970-03-16",
                    "1970-03-20"
                  ],
                  "hovertemplate": "Machine=FBU-4<br>Start=%{base}<br>Finish=%{x}<br>Product=%{y}<extra></extra>",
                  "legendgroup": "FBU-4",
                  "marker": {
                    "color": "#ab63fa",
                    "pattern": {
                      "shape": ""
                    }
                  },
                  "name": "FBU-4",
                  "offsetgroup": "FBU-4",
                  "orientation": "h",
                  "showlegend": true,
                  "textposition": "auto",
                  "type": "bar",
                  "x": [
                    345600000,
                    345600000,
                    345600000,
                    345600000,
                    345600000,
                    345600000,
                    345600000,
                    345600000
                  ],
                  "xaxis": "x",
                  "y": [
                    "CSS-4",
                    "Fixback-4",
                    "CSS-4",
                    "Fixback-4",
                    "CSS-4",
                    "Fixback-4",
                    "CSS-4",
                    "Fixback-4"
                  ],
                  "yaxis": "y"
                },
                {
                  "alignmentgroup": "True",
                  "base": [
                    "1970-01-06",
                    "1970-01-30",
                    "1970-02-23",
                    "1970-03-19"
                  ],
                  "hovertemplate": "Machine=Slik-1<br>Start=%{base}<br>Finish=%{x}<br>Product=%{y}<extra></extra>",
                  "legendgroup": "Slik-1",
                  "marker": {
                    "color": "#FFA15A",
                    "pattern": {
                      "shape": ""
                    }
                  },
                  "name": "Slik-1",
                  "offsetgroup": "Slik-1",
                  "orientation": "h",
                  "showlegend": true,
                  "textposition": "auto",
                  "type": "bar",
                  "x": [
                    345600000,
                    345600000,
                    345600000,
                    345600000
                  ],
                  "xaxis": "x",
                  "y": [
                    "CSS-1",
                    "CSS-1",
                    "CSS-1",
                    "CSS-1"
                  ],
                  "yaxis": "y"
                },
                {
                  "alignmentgroup": "True",
                  "base": [
                    "1970-01-06",
                    "1970-01-30",
                    "1970-02-23",
                    "1970-03-19"
                  ],
                  "hovertemplate": "Machine=Slik-2<br>Start=%{base}<br>Finish=%{x}<br>Product=%{y}<extra></extra>",
                  "legendgroup": "Slik-2",
                  "marker": {
                    "color": "#19d3f3",
                    "pattern": {
                      "shape": ""
                    }
                  },
                  "name": "Slik-2",
                  "offsetgroup": "Slik-2",
                  "orientation": "h",
                  "showlegend": true,
                  "textposition": "auto",
                  "type": "bar",
                  "x": [
                    345600000,
                    345600000,
                    345600000,
                    345600000
                  ],
                  "xaxis": "x",
                  "y": [
                    "CSS-2",
                    "CSS-2",
                    "CSS-2",
                    "CSS-2"
                  ],
                  "yaxis": "y"
                },
                {
                  "alignmentgroup": "True",
                  "base": [
                    "1970-01-06",
                    "1970-01-30",
                    "1970-02-23",
                    "1970-03-19"
                  ],
                  "hovertemplate": "Machine=Slik-3<br>Start=%{base}<br>Finish=%{x}<br>Product=%{y}<extra></extra>",
                  "legendgroup": "Slik-3",
                  "marker": {
                    "color": "#FF6692",
                    "pattern": {
                      "shape": ""
                    }
                  },
                  "name": "Slik-3",
                  "offsetgroup": "Slik-3",
                  "orientation": "h",
                  "showlegend": true,
                  "textposition": "auto",
                  "type": "bar",
                  "x": [
                    345600000,
                    345600000,
                    345600000,
                    345600000
                  ],
                  "xaxis": "x",
                  "y": [
                    "CSS-3",
                    "CSS-3",
                    "CSS-3",
                    "CSS-3"
                  ],
                  "yaxis": "y"
                },
                {
                  "alignmentgroup": "True",
                  "base": [
                    "1970-01-06",
                    "1970-01-30",
                    "1970-02-23",
                    "1970-03-20"
                  ],
                  "hovertemplate": "Machine=Slik-4<br>Start=%{base}<br>Finish=%{x}<br>Product=%{y}<extra></extra>",
                  "legendgroup": "Slik-4",
                  "marker": {
                    "color": "#B6E880",
                    "pattern": {
                      "shape": ""
                    }
                  },
                  "name": "Slik-4",
                  "offsetgroup": "Slik-4",
                  "orientation": "h",
                  "showlegend": true,
                  "textposition": "auto",
                  "type": "bar",
                  "x": [
                    345600000,
                    345600000,
                    345600000,
                    345600000
                  ],
                  "xaxis": "x",
                  "y": [
                    "CSS-4",
                    "CSS-4",
                    "CSS-4",
                    "CSS-4"
                  ],
                  "yaxis": "y"
                },
                {
                  "alignmentgroup": "True",
                  "base": [
                    "1970-01-10",
                    "1970-02-03",
                    "1970-02-27",
                    "1970-03-23"
                  ],
                  "hovertemplate": "Machine=CTU-1<br>Start=%{base}<br>Finish=%{x}<br>Product=%{y}<extra></extra>",
                  "legendgroup": "CTU-1",
                  "marker": {
                    "color": "#FF97FF",
                    "pattern": {
                      "shape": ""
                    }
                  },
                  "name": "CTU-1",
                  "offsetgroup": "CTU-1",
                  "orientation": "h",
                  "showlegend": true,
                  "textposition": "auto",
                  "type": "bar",
                  "x": [
                    345600000,
                    345600000,
                    345600000,
                    345600000
                  ],
                  "xaxis": "x",
                  "y": [
                    "CSS-1",
                    "CSS-1",
                    "CSS-1",
                    "CSS-1"
                  ],
                  "yaxis": "y"
                },
                {
                  "alignmentgroup": "True",
                  "base": [
                    "1970-01-10",
                    "1970-02-03",
                    "1970-02-27",
                    "1970-03-23"
                  ],
                  "hovertemplate": "Machine=CTU-2<br>Start=%{base}<br>Finish=%{x}<br>Product=%{y}<extra></extra>",
                  "legendgroup": "CTU-2",
                  "marker": {
                    "color": "#FECB52",
                    "pattern": {
                      "shape": ""
                    }
                  },
                  "name": "CTU-2",
                  "offsetgroup": "CTU-2",
                  "orientation": "h",
                  "showlegend": true,
                  "textposition": "auto",
                  "type": "bar",
                  "x": [
                    345600000,
                    345600000,
                    345600000,
                    345600000
                  ],
                  "xaxis": "x",
                  "y": [
                    "CSS-2",
                    "CSS-2",
                    "CSS-2",
                    "CSS-2"
                  ],
                  "yaxis": "y"
                },
                {
                  "alignmentgroup": "True",
                  "base": [
                    "1970-01-10",
                    "1970-02-03",
                    "1970-02-27",
                    "1970-03-23"
                  ],
                  "hovertemplate": "Machine=CTU-3<br>Start=%{base}<br>Finish=%{x}<br>Product=%{y}<extra></extra>",
                  "legendgroup": "CTU-3",
                  "marker": {
                    "color": "#636efa",
                    "pattern": {
                      "shape": ""
                    }
                  },
                  "name": "CTU-3",
                  "offsetgroup": "CTU-3",
                  "orientation": "h",
                  "showlegend": true,
                  "textposition": "auto",
                  "type": "bar",
                  "x": [
                    345600000,
                    345600000,
                    345600000,
                    345600000
                  ],
                  "xaxis": "x",
                  "y": [
                    "CSS-3",
                    "CSS-3",
                    "CSS-3",
                    "CSS-3"
                  ],
                  "yaxis": "y"
                },
                {
                  "alignmentgroup": "True",
                  "base": [
                    "1970-01-10",
                    "1970-02-03",
                    "1970-02-27",
                    "1970-03-24"
                  ],
                  "hovertemplate": "Machine=CTU-4<br>Start=%{base}<br>Finish=%{x}<br>Product=%{y}<extra></extra>",
                  "legendgroup": "CTU-4",
                  "marker": {
                    "color": "#EF553B",
                    "pattern": {
                      "shape": ""
                    }
                  },
                  "name": "CTU-4",
                  "offsetgroup": "CTU-4",
                  "orientation": "h",
                  "showlegend": true,
                  "textposition": "auto",
                  "type": "bar",
                  "x": [
                    345600000,
                    345600000,
                    345600000,
                    345600000
                  ],
                  "xaxis": "x",
                  "y": [
                    "CSS-4",
                    "CSS-4",
                    "CSS-4",
                    "CSS-4"
                  ],
                  "yaxis": "y"
                },
                {
                  "alignmentgroup": "True",
                  "base": [
                    "1970-01-14",
                    "1970-02-07",
                    "1970-03-03",
                    "1970-03-27"
                  ],
                  "hovertemplate": "Machine=Drill-1<br>Start=%{base}<br>Finish=%{x}<br>Product=%{y}<extra></extra>",
                  "legendgroup": "Drill-1",
                  "marker": {
                    "color": "#00cc96",
                    "pattern": {
                      "shape": ""
                    }
                  },
                  "name": "Drill-1",
                  "offsetgroup": "Drill-1",
                  "orientation": "h",
                  "showlegend": true,
                  "textposition": "auto",
                  "type": "bar",
                  "x": [
                    86400000,
                    86400000,
                    86400000,
                    86400000
                  ],
                  "xaxis": "x",
                  "y": [
                    "CSS-1",
                    "CSS-1",
                    "CSS-1",
                    "CSS-1"
                  ],
                  "yaxis": "y"
                },
                {
                  "alignmentgroup": "True",
                  "base": [
                    "1970-01-14",
                    "1970-02-07",
                    "1970-03-03",
                    "1970-03-27"
                  ],
                  "hovertemplate": "Machine=Drill-2<br>Start=%{base}<br>Finish=%{x}<br>Product=%{y}<extra></extra>",
                  "legendgroup": "Drill-2",
                  "marker": {
                    "color": "#ab63fa",
                    "pattern": {
                      "shape": ""
                    }
                  },
                  "name": "Drill-2",
                  "offsetgroup": "Drill-2",
                  "orientation": "h",
                  "showlegend": true,
                  "textposition": "auto",
                  "type": "bar",
                  "x": [
                    86400000,
                    86400000,
                    86400000,
                    86400000
                  ],
                  "xaxis": "x",
                  "y": [
                    "CSS-2",
                    "CSS-2",
                    "CSS-2",
                    "CSS-2"
                  ],
                  "yaxis": "y"
                },
                {
                  "alignmentgroup": "True",
                  "base": [
                    "1970-01-14",
                    "1970-02-07",
                    "1970-03-03",
                    "1970-03-27"
                  ],
                  "hovertemplate": "Machine=Drill-3<br>Start=%{base}<br>Finish=%{x}<br>Product=%{y}<extra></extra>",
                  "legendgroup": "Drill-3",
                  "marker": {
                    "color": "#FFA15A",
                    "pattern": {
                      "shape": ""
                    }
                  },
                  "name": "Drill-3",
                  "offsetgroup": "Drill-3",
                  "orientation": "h",
                  "showlegend": true,
                  "textposition": "auto",
                  "type": "bar",
                  "x": [
                    86400000,
                    86400000,
                    86400000,
                    86400000
                  ],
                  "xaxis": "x",
                  "y": [
                    "CSS-3",
                    "CSS-3",
                    "CSS-3",
                    "CSS-3"
                  ],
                  "yaxis": "y"
                },
                {
                  "alignmentgroup": "True",
                  "base": [
                    "1970-01-14",
                    "1970-02-07",
                    "1970-03-03",
                    "1970-03-28"
                  ],
                  "hovertemplate": "Machine=Drill-4<br>Start=%{base}<br>Finish=%{x}<br>Product=%{y}<extra></extra>",
                  "legendgroup": "Drill-4",
                  "marker": {
                    "color": "#19d3f3",
                    "pattern": {
                      "shape": ""
                    }
                  },
                  "name": "Drill-4",
                  "offsetgroup": "Drill-4",
                  "orientation": "h",
                  "showlegend": true,
                  "textposition": "auto",
                  "type": "bar",
                  "x": [
                    86400000,
                    86400000,
                    86400000,
                    86400000
                  ],
                  "xaxis": "x",
                  "y": [
                    "CSS-4",
                    "CSS-4",
                    "CSS-4",
                    "CSS-4"
                  ],
                  "yaxis": "y"
                },
                {
                  "alignmentgroup": "True",
                  "base": [
                    "1970-01-01",
                    "1970-01-10",
                    "1970-01-11",
                    "1970-01-12",
                    "1970-01-25",
                    "1970-02-03",
                    "1970-02-04",
                    "1970-02-05",
                    "1970-02-18",
                    "1970-02-27",
                    "1970-02-28",
                    "1970-03-01",
                    "1970-03-14",
                    "1970-03-15",
                    "1970-03-23",
                    "1970-03-29",
                    "1970-03-30"
                  ],
                  "hovertemplate": "Machine=Maintenance-1<br>Start=%{base}<br>Finish=%{x}<br>Product=%{y}<extra></extra>",
                  "legendgroup": "Maintenance-1",
                  "marker": {
                    "color": "#FF6692",
                    "pattern": {
                      "shape": ""
                    }
                  },
                  "name": "Maintenance-1",
                  "offsetgroup": "Maintenance-1",
                  "orientation": "h",
                  "showlegend": true,
                  "textposition": "auto",
                  "type": "bar",
                  "x": [
                    86400000,
                    86400000,
                    86400000,
                    345600000,
                    86400000,
                    86400000,
                    86400000,
                    345600000,
                    86400000,
                    86400000,
                    86400000,
                    345600000,
                    86400000,
                    86400000,
                    86400000,
                    86400000,
                    345600000
                  ],
                  "xaxis": "x",
                  "y": [
                    "CSS-1",
                    "Fixback-1",
                    "Restore-1",
                    "Declearance-1",
                    "CSS-1",
                    "Fixback-1",
                    "Restore-1",
                    "Declearance-1",
                    "CSS-1",
                    "Fixback-1",
                    "Restore-1",
                    "Declearance-1",
                    "CSS-1",
                    "CSS-4",
                    "Fixback-3",
                    "Restore-1",
                    "Declearance-1"
                  ],
                  "yaxis": "y"
                },
                {
                  "alignmentgroup": "True",
                  "base": [
                    "1970-01-01",
                    "1970-01-10",
                    "1970-01-16",
                    "1970-01-25",
                    "1970-02-03",
                    "1970-02-09",
                    "1970-02-18",
                    "1970-02-27",
                    "1970-03-05",
                    "1970-03-14",
                    "1970-03-23",
                    "1970-03-24",
                    "1970-03-25"
                  ],
                  "hovertemplate": "Machine=Maintenance-2<br>Start=%{base}<br>Finish=%{x}<br>Product=%{y}<extra></extra>",
                  "legendgroup": "Maintenance-2",
                  "marker": {
                    "color": "#B6E880",
                    "pattern": {
                      "shape": ""
                    }
                  },
                  "name": "Maintenance-2",
                  "offsetgroup": "Maintenance-2",
                  "orientation": "h",
                  "showlegend": true,
                  "textposition": "auto",
                  "type": "bar",
                  "x": [
                    86400000,
                    86400000,
                    86400000,
                    86400000,
                    86400000,
                    86400000,
                    86400000,
                    86400000,
                    86400000,
                    86400000,
                    86400000,
                    86400000,
                    86400000
                  ],
                  "xaxis": "x",
                  "y": [
                    "CSS-2",
                    "Fixback-2",
                    "Restore-1",
                    "CSS-2",
                    "Fixback-2",
                    "Restore-1",
                    "CSS-2",
                    "Fixback-2",
                    "Restore-1",
                    "CSS-2",
                    "Fixback-1",
                    "Fixback-4",
                    "Restore-2"
                  ],
                  "yaxis": "y"
                },
                {
                  "alignmentgroup": "True",
                  "base": [
                    "1970-01-01",
                    "1970-01-10",
                    "1970-01-11",
                    "1970-01-25",
                    "1970-02-03",
                    "1970-02-04",
                    "1970-02-18",
                    "1970-02-27",
                    "1970-02-28",
                    "1970-03-14",
                    "1970-03-23",
                    "1970-03-24",
                    "1970-03-30"
                  ],
                  "hovertemplate": "Machine=Maintenance-3<br>Start=%{base}<br>Finish=%{x}<br>Product=%{y}<extra></extra>",
                  "legendgroup": "Maintenance-3",
                  "marker": {
                    "color": "#FF97FF",
                    "pattern": {
                      "shape": ""
                    }
                  },
                  "name": "Maintenance-3",
                  "offsetgroup": "Maintenance-3",
                  "orientation": "h",
                  "showlegend": true,
                  "textposition": "auto",
                  "type": "bar",
                  "x": [
                    86400000,
                    86400000,
                    86400000,
                    86400000,
                    86400000,
                    86400000,
                    86400000,
                    86400000,
                    86400000,
                    86400000,
                    86400000,
                    86400000,
                    86400000
                  ],
                  "xaxis": "x",
                  "y": [
                    "CSS-3",
                    "Fixback-3",
                    "Restore-2",
                    "CSS-3",
                    "Fixback-3",
                    "Restore-2",
                    "CSS-3",
                    "Fixback-3",
                    "Restore-2",
                    "CSS-3",
                    "Fixback-2",
                    "Restore-1",
                    "Restore-2"
                  ],
                  "yaxis": "y"
                },
                {
                  "alignmentgroup": "True",
                  "base": [
                    "1970-01-01",
                    "1970-01-10",
                    "1970-01-16",
                    "1970-01-25",
                    "1970-02-03",
                    "1970-02-09",
                    "1970-02-18",
                    "1970-02-27",
                    "1970-03-05",
                    "1970-03-14"
                  ],
                  "hovertemplate": "Machine=Maintenance-4<br>Start=%{base}<br>Finish=%{x}<br>Product=%{y}<extra></extra>",
                  "legendgroup": "Maintenance-4",
                  "marker": {
                    "color": "#FECB52",
                    "pattern": {
                      "shape": ""
                    }
                  },
                  "name": "Maintenance-4",
                  "offsetgroup": "Maintenance-4",
                  "orientation": "h",
                  "showlegend": true,
                  "textposition": "auto",
                  "type": "bar",
                  "x": [
                    86400000,
                    86400000,
                    86400000,
                    86400000,
                    86400000,
                    86400000,
                    86400000,
                    86400000,
                    86400000,
                    432000000
                  ],
                  "xaxis": "x",
                  "y": [
                    "CSS-4",
                    "Fixback-4",
                    "Restore-2",
                    "CSS-4",
                    "Fixback-4",
                    "Restore-2",
                    "CSS-4",
                    "Fixback-4",
                    "Restore-2",
                    "Clearance-1"
                  ],
                  "yaxis": "y"
                }
              ],
              "layout": {
                "barmode": "overlay",
                "legend": {
                  "title": {
                    "text": "Machine"
                  },
                  "tracegroupgap": 0
                },
                "margin": {
                  "t": 60
                },
                "template": {
                  "data": {
                    "bar": [
                      {
                        "error_x": {
                          "color": "#2a3f5f"
                        },
                        "error_y": {
                          "color": "#2a3f5f"
                        },
                        "marker": {
                          "line": {
                            "color": "#E5ECF6",
                            "width": 0.5
                          },
                          "pattern": {
                            "fillmode": "overlay",
                            "size": 10,
                            "solidity": 0.2
                          }
                        },
                        "type": "bar"
                      }
                    ],
                    "barpolar": [
                      {
                        "marker": {
                          "line": {
                            "color": "#E5ECF6",
                            "width": 0.5
                          },
                          "pattern": {
                            "fillmode": "overlay",
                            "size": 10,
                            "solidity": 0.2
                          }
                        },
                        "type": "barpolar"
                      }
                    ],
                    "carpet": [
                      {
                        "aaxis": {
                          "endlinecolor": "#2a3f5f",
                          "gridcolor": "white",
                          "linecolor": "white",
                          "minorgridcolor": "white",
                          "startlinecolor": "#2a3f5f"
                        },
                        "baxis": {
                          "endlinecolor": "#2a3f5f",
                          "gridcolor": "white",
                          "linecolor": "white",
                          "minorgridcolor": "white",
                          "startlinecolor": "#2a3f5f"
                        },
                        "type": "carpet"
                      }
                    ],
                    "choropleth": [
                      {
                        "colorbar": {
                          "outlinewidth": 0,
                          "ticks": ""
                        },
                        "type": "choropleth"
                      }
                    ],
                    "contour": [
                      {
                        "colorbar": {
                          "outlinewidth": 0,
                          "ticks": ""
                        },
                        "colorscale": [
                          [
                            0,
                            "#0d0887"
                          ],
                          [
                            0.1111111111111111,
                            "#46039f"
                          ],
                          [
                            0.2222222222222222,
                            "#7201a8"
                          ],
                          [
                            0.3333333333333333,
                            "#9c179e"
                          ],
                          [
                            0.4444444444444444,
                            "#bd3786"
                          ],
                          [
                            0.5555555555555556,
                            "#d8576b"
                          ],
                          [
                            0.6666666666666666,
                            "#ed7953"
                          ],
                          [
                            0.7777777777777778,
                            "#fb9f3a"
                          ],
                          [
                            0.8888888888888888,
                            "#fdca26"
                          ],
                          [
                            1,
                            "#f0f921"
                          ]
                        ],
                        "type": "contour"
                      }
                    ],
                    "contourcarpet": [
                      {
                        "colorbar": {
                          "outlinewidth": 0,
                          "ticks": ""
                        },
                        "type": "contourcarpet"
                      }
                    ],
                    "heatmap": [
                      {
                        "colorbar": {
                          "outlinewidth": 0,
                          "ticks": ""
                        },
                        "colorscale": [
                          [
                            0,
                            "#0d0887"
                          ],
                          [
                            0.1111111111111111,
                            "#46039f"
                          ],
                          [
                            0.2222222222222222,
                            "#7201a8"
                          ],
                          [
                            0.3333333333333333,
                            "#9c179e"
                          ],
                          [
                            0.4444444444444444,
                            "#bd3786"
                          ],
                          [
                            0.5555555555555556,
                            "#d8576b"
                          ],
                          [
                            0.6666666666666666,
                            "#ed7953"
                          ],
                          [
                            0.7777777777777778,
                            "#fb9f3a"
                          ],
                          [
                            0.8888888888888888,
                            "#fdca26"
                          ],
                          [
                            1,
                            "#f0f921"
                          ]
                        ],
                        "type": "heatmap"
                      }
                    ],
                    "heatmapgl": [
                      {
                        "colorbar": {
                          "outlinewidth": 0,
                          "ticks": ""
                        },
                        "colorscale": [
                          [
                            0,
                            "#0d0887"
                          ],
                          [
                            0.1111111111111111,
                            "#46039f"
                          ],
                          [
                            0.2222222222222222,
                            "#7201a8"
                          ],
                          [
                            0.3333333333333333,
                            "#9c179e"
                          ],
                          [
                            0.4444444444444444,
                            "#bd3786"
                          ],
                          [
                            0.5555555555555556,
                            "#d8576b"
                          ],
                          [
                            0.6666666666666666,
                            "#ed7953"
                          ],
                          [
                            0.7777777777777778,
                            "#fb9f3a"
                          ],
                          [
                            0.8888888888888888,
                            "#fdca26"
                          ],
                          [
                            1,
                            "#f0f921"
                          ]
                        ],
                        "type": "heatmapgl"
                      }
                    ],
                    "histogram": [
                      {
                        "marker": {
                          "pattern": {
                            "fillmode": "overlay",
                            "size": 10,
                            "solidity": 0.2
                          }
                        },
                        "type": "histogram"
                      }
                    ],
                    "histogram2d": [
                      {
                        "colorbar": {
                          "outlinewidth": 0,
                          "ticks": ""
                        },
                        "colorscale": [
                          [
                            0,
                            "#0d0887"
                          ],
                          [
                            0.1111111111111111,
                            "#46039f"
                          ],
                          [
                            0.2222222222222222,
                            "#7201a8"
                          ],
                          [
                            0.3333333333333333,
                            "#9c179e"
                          ],
                          [
                            0.4444444444444444,
                            "#bd3786"
                          ],
                          [
                            0.5555555555555556,
                            "#d8576b"
                          ],
                          [
                            0.6666666666666666,
                            "#ed7953"
                          ],
                          [
                            0.7777777777777778,
                            "#fb9f3a"
                          ],
                          [
                            0.8888888888888888,
                            "#fdca26"
                          ],
                          [
                            1,
                            "#f0f921"
                          ]
                        ],
                        "type": "histogram2d"
                      }
                    ],
                    "histogram2dcontour": [
                      {
                        "colorbar": {
                          "outlinewidth": 0,
                          "ticks": ""
                        },
                        "colorscale": [
                          [
                            0,
                            "#0d0887"
                          ],
                          [
                            0.1111111111111111,
                            "#46039f"
                          ],
                          [
                            0.2222222222222222,
                            "#7201a8"
                          ],
                          [
                            0.3333333333333333,
                            "#9c179e"
                          ],
                          [
                            0.4444444444444444,
                            "#bd3786"
                          ],
                          [
                            0.5555555555555556,
                            "#d8576b"
                          ],
                          [
                            0.6666666666666666,
                            "#ed7953"
                          ],
                          [
                            0.7777777777777778,
                            "#fb9f3a"
                          ],
                          [
                            0.8888888888888888,
                            "#fdca26"
                          ],
                          [
                            1,
                            "#f0f921"
                          ]
                        ],
                        "type": "histogram2dcontour"
                      }
                    ],
                    "mesh3d": [
                      {
                        "colorbar": {
                          "outlinewidth": 0,
                          "ticks": ""
                        },
                        "type": "mesh3d"
                      }
                    ],
                    "parcoords": [
                      {
                        "line": {
                          "colorbar": {
                            "outlinewidth": 0,
                            "ticks": ""
                          }
                        },
                        "type": "parcoords"
                      }
                    ],
                    "pie": [
                      {
                        "automargin": true,
                        "type": "pie"
                      }
                    ],
                    "scatter": [
                      {
                        "fillpattern": {
                          "fillmode": "overlay",
                          "size": 10,
                          "solidity": 0.2
                        },
                        "type": "scatter"
                      }
                    ],
                    "scatter3d": [
                      {
                        "line": {
                          "colorbar": {
                            "outlinewidth": 0,
                            "ticks": ""
                          }
                        },
                        "marker": {
                          "colorbar": {
                            "outlinewidth": 0,
                            "ticks": ""
                          }
                        },
                        "type": "scatter3d"
                      }
                    ],
                    "scattercarpet": [
                      {
                        "marker": {
                          "colorbar": {
                            "outlinewidth": 0,
                            "ticks": ""
                          }
                        },
                        "type": "scattercarpet"
                      }
                    ],
                    "scattergeo": [
                      {
                        "marker": {
                          "colorbar": {
                            "outlinewidth": 0,
                            "ticks": ""
                          }
                        },
                        "type": "scattergeo"
                      }
                    ],
                    "scattergl": [
                      {
                        "marker": {
                          "colorbar": {
                            "outlinewidth": 0,
                            "ticks": ""
                          }
                        },
                        "type": "scattergl"
                      }
                    ],
                    "scattermapbox": [
                      {
                        "marker": {
                          "colorbar": {
                            "outlinewidth": 0,
                            "ticks": ""
                          }
                        },
                        "type": "scattermapbox"
                      }
                    ],
                    "scatterpolar": [
                      {
                        "marker": {
                          "colorbar": {
                            "outlinewidth": 0,
                            "ticks": ""
                          }
                        },
                        "type": "scatterpolar"
                      }
                    ],
                    "scatterpolargl": [
                      {
                        "marker": {
                          "colorbar": {
                            "outlinewidth": 0,
                            "ticks": ""
                          }
                        },
                        "type": "scatterpolargl"
                      }
                    ],
                    "scatterternary": [
                      {
                        "marker": {
                          "colorbar": {
                            "outlinewidth": 0,
                            "ticks": ""
                          }
                        },
                        "type": "scatterternary"
                      }
                    ],
                    "surface": [
                      {
                        "colorbar": {
                          "outlinewidth": 0,
                          "ticks": ""
                        },
                        "colorscale": [
                          [
                            0,
                            "#0d0887"
                          ],
                          [
                            0.1111111111111111,
                            "#46039f"
                          ],
                          [
                            0.2222222222222222,
                            "#7201a8"
                          ],
                          [
                            0.3333333333333333,
                            "#9c179e"
                          ],
                          [
                            0.4444444444444444,
                            "#bd3786"
                          ],
                          [
                            0.5555555555555556,
                            "#d8576b"
                          ],
                          [
                            0.6666666666666666,
                            "#ed7953"
                          ],
                          [
                            0.7777777777777778,
                            "#fb9f3a"
                          ],
                          [
                            0.8888888888888888,
                            "#fdca26"
                          ],
                          [
                            1,
                            "#f0f921"
                          ]
                        ],
                        "type": "surface"
                      }
                    ],
                    "table": [
                      {
                        "cells": {
                          "fill": {
                            "color": "#EBF0F8"
                          },
                          "line": {
                            "color": "white"
                          }
                        },
                        "header": {
                          "fill": {
                            "color": "#C8D4E3"
                          },
                          "line": {
                            "color": "white"
                          }
                        },
                        "type": "table"
                      }
                    ]
                  },
                  "layout": {
                    "annotationdefaults": {
                      "arrowcolor": "#2a3f5f",
                      "arrowhead": 0,
                      "arrowwidth": 1
                    },
                    "autotypenumbers": "strict",
                    "coloraxis": {
                      "colorbar": {
                        "outlinewidth": 0,
                        "ticks": ""
                      }
                    },
                    "colorscale": {
                      "diverging": [
                        [
                          0,
                          "#8e0152"
                        ],
                        [
                          0.1,
                          "#c51b7d"
                        ],
                        [
                          0.2,
                          "#de77ae"
                        ],
                        [
                          0.3,
                          "#f1b6da"
                        ],
                        [
                          0.4,
                          "#fde0ef"
                        ],
                        [
                          0.5,
                          "#f7f7f7"
                        ],
                        [
                          0.6,
                          "#e6f5d0"
                        ],
                        [
                          0.7,
                          "#b8e186"
                        ],
                        [
                          0.8,
                          "#7fbc41"
                        ],
                        [
                          0.9,
                          "#4d9221"
                        ],
                        [
                          1,
                          "#276419"
                        ]
                      ],
                      "sequential": [
                        [
                          0,
                          "#0d0887"
                        ],
                        [
                          0.1111111111111111,
                          "#46039f"
                        ],
                        [
                          0.2222222222222222,
                          "#7201a8"
                        ],
                        [
                          0.3333333333333333,
                          "#9c179e"
                        ],
                        [
                          0.4444444444444444,
                          "#bd3786"
                        ],
                        [
                          0.5555555555555556,
                          "#d8576b"
                        ],
                        [
                          0.6666666666666666,
                          "#ed7953"
                        ],
                        [
                          0.7777777777777778,
                          "#fb9f3a"
                        ],
                        [
                          0.8888888888888888,
                          "#fdca26"
                        ],
                        [
                          1,
                          "#f0f921"
                        ]
                      ],
                      "sequentialminus": [
                        [
                          0,
                          "#0d0887"
                        ],
                        [
                          0.1111111111111111,
                          "#46039f"
                        ],
                        [
                          0.2222222222222222,
                          "#7201a8"
                        ],
                        [
                          0.3333333333333333,
                          "#9c179e"
                        ],
                        [
                          0.4444444444444444,
                          "#bd3786"
                        ],
                        [
                          0.5555555555555556,
                          "#d8576b"
                        ],
                        [
                          0.6666666666666666,
                          "#ed7953"
                        ],
                        [
                          0.7777777777777778,
                          "#fb9f3a"
                        ],
                        [
                          0.8888888888888888,
                          "#fdca26"
                        ],
                        [
                          1,
                          "#f0f921"
                        ]
                      ]
                    },
                    "colorway": [
                      "#636efa",
                      "#EF553B",
                      "#00cc96",
                      "#ab63fa",
                      "#FFA15A",
                      "#19d3f3",
                      "#FF6692",
                      "#B6E880",
                      "#FF97FF",
                      "#FECB52"
                    ],
                    "font": {
                      "color": "#2a3f5f"
                    },
                    "geo": {
                      "bgcolor": "white",
                      "lakecolor": "white",
                      "landcolor": "#E5ECF6",
                      "showlakes": true,
                      "showland": true,
                      "subunitcolor": "white"
                    },
                    "hoverlabel": {
                      "align": "left"
                    },
                    "hovermode": "closest",
                    "mapbox": {
                      "style": "light"
                    },
                    "paper_bgcolor": "white",
                    "plot_bgcolor": "#E5ECF6",
                    "polar": {
                      "angularaxis": {
                        "gridcolor": "white",
                        "linecolor": "white",
                        "ticks": ""
                      },
                      "bgcolor": "#E5ECF6",
                      "radialaxis": {
                        "gridcolor": "white",
                        "linecolor": "white",
                        "ticks": ""
                      }
                    },
                    "scene": {
                      "xaxis": {
                        "backgroundcolor": "#E5ECF6",
                        "gridcolor": "white",
                        "gridwidth": 2,
                        "linecolor": "white",
                        "showbackground": true,
                        "ticks": "",
                        "zerolinecolor": "white"
                      },
                      "yaxis": {
                        "backgroundcolor": "#E5ECF6",
                        "gridcolor": "white",
                        "gridwidth": 2,
                        "linecolor": "white",
                        "showbackground": true,
                        "ticks": "",
                        "zerolinecolor": "white"
                      },
                      "zaxis": {
                        "backgroundcolor": "#E5ECF6",
                        "gridcolor": "white",
                        "gridwidth": 2,
                        "linecolor": "white",
                        "showbackground": true,
                        "ticks": "",
                        "zerolinecolor": "white"
                      }
                    },
                    "shapedefaults": {
                      "line": {
                        "color": "#2a3f5f"
                      }
                    },
                    "ternary": {
                      "aaxis": {
                        "gridcolor": "white",
                        "linecolor": "white",
                        "ticks": ""
                      },
                      "baxis": {
                        "gridcolor": "white",
                        "linecolor": "white",
                        "ticks": ""
                      },
                      "bgcolor": "#E5ECF6",
                      "caxis": {
                        "gridcolor": "white",
                        "linecolor": "white",
                        "ticks": ""
                      }
                    },
                    "title": {
                      "x": 0.05
                    },
                    "xaxis": {
                      "automargin": true,
                      "gridcolor": "white",
                      "linecolor": "white",
                      "ticks": "",
                      "title": {
                        "standoff": 15
                      },
                      "zerolinecolor": "white",
                      "zerolinewidth": 2
                    },
                    "yaxis": {
                      "automargin": true,
                      "gridcolor": "white",
                      "linecolor": "white",
                      "ticks": "",
                      "title": {
                        "standoff": 15
                      },
                      "zerolinecolor": "white",
                      "zerolinewidth": 2
                    }
                  }
                },
                "xaxis": {
                  "anchor": "y",
                  "domain": [
                    0,
                    1
                  ],
                  "ticktext": [
                    0,
                    1,
                    2,
                    3,
                    4,
                    5,
                    6,
                    7,
                    8,
                    9,
                    10,
                    11,
                    12,
                    13,
                    14,
                    15,
                    16,
                    17,
                    18,
                    19,
                    20,
                    21,
                    22,
                    23,
                    24,
                    25,
                    26,
                    27,
                    28,
                    29,
                    30,
                    31,
                    32,
                    33,
                    34,
                    35,
                    36,
                    37,
                    38,
                    39,
                    40,
                    41,
                    42,
                    43,
                    44,
                    45,
                    46,
                    47,
                    48,
                    49,
                    50,
                    51,
                    52,
                    53,
                    54,
                    55,
                    56,
                    57,
                    58,
                    59,
                    60,
                    61,
                    62,
                    63,
                    64,
                    65,
                    66,
                    67,
                    68,
                    69,
                    70,
                    71,
                    72,
                    73,
                    74,
                    75,
                    76,
                    77,
                    78,
                    79,
                    80,
                    81,
                    82,
                    83,
                    84,
                    85,
                    86,
                    87,
                    88,
                    89,
                    90,
                    91,
                    92,
                    93,
                    94,
                    95,
                    96
                  ],
                  "tickvals": [
                    "1970-01-01",
                    "1970-01-02",
                    "1970-01-03",
                    "1970-01-04",
                    "1970-01-05",
                    "1970-01-06",
                    "1970-01-07",
                    "1970-01-08",
                    "1970-01-09",
                    "1970-01-10",
                    "1970-01-11",
                    "1970-01-12",
                    "1970-01-13",
                    "1970-01-14",
                    "1970-01-15",
                    "1970-01-16",
                    "1970-01-17",
                    "1970-01-18",
                    "1970-01-19",
                    "1970-01-20",
                    "1970-01-21",
                    "1970-01-22",
                    "1970-01-23",
                    "1970-01-24",
                    "1970-01-25",
                    "1970-01-26",
                    "1970-01-27",
                    "1970-01-28",
                    "1970-01-29",
                    "1970-01-30",
                    "1970-01-31",
                    "1970-02-01",
                    "1970-02-02",
                    "1970-02-03",
                    "1970-02-04",
                    "1970-02-05",
                    "1970-02-06",
                    "1970-02-07",
                    "1970-02-08",
                    "1970-02-09",
                    "1970-02-10",
                    "1970-02-11",
                    "1970-02-12",
                    "1970-02-13",
                    "1970-02-14",
                    "1970-02-15",
                    "1970-02-16",
                    "1970-02-17",
                    "1970-02-18",
                    "1970-02-19",
                    "1970-02-20",
                    "1970-02-21",
                    "1970-02-22",
                    "1970-02-23",
                    "1970-02-24",
                    "1970-02-25",
                    "1970-02-26",
                    "1970-02-27",
                    "1970-02-28",
                    "1970-03-01",
                    "1970-03-02",
                    "1970-03-03",
                    "1970-03-04",
                    "1970-03-05",
                    "1970-03-06",
                    "1970-03-07",
                    "1970-03-08",
                    "1970-03-09",
                    "1970-03-10",
                    "1970-03-11",
                    "1970-03-12",
                    "1970-03-13",
                    "1970-03-14",
                    "1970-03-15",
                    "1970-03-16",
                    "1970-03-17",
                    "1970-03-18",
                    "1970-03-19",
                    "1970-03-20",
                    "1970-03-21",
                    "1970-03-22",
                    "1970-03-23",
                    "1970-03-24",
                    "1970-03-25",
                    "1970-03-26",
                    "1970-03-27",
                    "1970-03-28",
                    "1970-03-29",
                    "1970-03-30",
                    "1970-03-31",
                    "1970-04-01",
                    "1970-04-02",
                    "1970-04-03",
                    "1970-04-04",
                    "1970-04-05",
                    "1970-04-06",
                    "1970-04-07"
                  ],
                  "type": "date"
                },
                "yaxis": {
                  "anchor": "x",
                  "autorange": "reversed",
                  "domain": [
                    0,
                    1
                  ],
                  "title": {
                    "text": "Product"
                  }
                }
              }
            },
            "text/html": [
              "<div>                            <div id=\"ba7640c4-8482-464a-a9b7-31833269e2b4\" class=\"plotly-graph-div\" style=\"height:525px; width:100%;\"></div>            <script type=\"text/javascript\">                require([\"plotly\"], function(Plotly) {                    window.PLOTLYENV=window.PLOTLYENV || {};                                    if (document.getElementById(\"ba7640c4-8482-464a-a9b7-31833269e2b4\")) {                    Plotly.newPlot(                        \"ba7640c4-8482-464a-a9b7-31833269e2b4\",                        [{\"alignmentgroup\":\"True\",\"base\":[\"1970-01-02\",\"1970-01-06\",\"1970-01-12\",\"1970-01-26\",\"1970-01-30\",\"1970-02-05\",\"1970-02-19\",\"1970-02-23\",\"1970-03-01\",\"1970-03-15\",\"1970-03-19\",\"1970-03-25\"],\"hovertemplate\":\"Machine=FBU-1<br>Start=%{base}<br>Finish=%{x}<br>Product=%{y}<extra></extra>\",\"legendgroup\":\"FBU-1\",\"marker\":{\"color\":\"#636efa\",\"pattern\":{\"shape\":\"\"}},\"name\":\"FBU-1\",\"offsetgroup\":\"FBU-1\",\"orientation\":\"h\",\"showlegend\":true,\"textposition\":\"auto\",\"x\":[345600000.0,345600000.0,345600000.0,345600000.0,345600000.0,345600000.0,345600000.0,345600000.0,345600000.0,345600000.0,345600000.0,345600000.0],\"xaxis\":\"x\",\"y\":[\"CSS-1\",\"Fixback-1\",\"Restore-1\",\"CSS-1\",\"Fixback-1\",\"Restore-1\",\"CSS-1\",\"Fixback-1\",\"Restore-1\",\"CSS-1\",\"Fixback-1\",\"Restore-1\"],\"yaxis\":\"y\",\"type\":\"bar\"},{\"alignmentgroup\":\"True\",\"base\":[\"1970-01-02\",\"1970-01-06\",\"1970-01-12\",\"1970-01-26\",\"1970-01-30\",\"1970-02-05\",\"1970-02-19\",\"1970-02-23\",\"1970-03-01\",\"1970-03-15\",\"1970-03-19\",\"1970-03-26\"],\"hovertemplate\":\"Machine=FBU-2<br>Start=%{base}<br>Finish=%{x}<br>Product=%{y}<extra></extra>\",\"legendgroup\":\"FBU-2\",\"marker\":{\"color\":\"#EF553B\",\"pattern\":{\"shape\":\"\"}},\"name\":\"FBU-2\",\"offsetgroup\":\"FBU-2\",\"orientation\":\"h\",\"showlegend\":true,\"textposition\":\"auto\",\"x\":[345600000.0,345600000.0,345600000.0,345600000.0,345600000.0,345600000.0,345600000.0,345600000.0,345600000.0,345600000.0,345600000.0,345600000.0],\"xaxis\":\"x\",\"y\":[\"CSS-2\",\"Fixback-2\",\"Restore-2\",\"CSS-2\",\"Fixback-2\",\"Restore-2\",\"CSS-2\",\"Fixback-2\",\"Restore-2\",\"CSS-2\",\"Fixback-2\",\"Restore-2\"],\"yaxis\":\"y\",\"type\":\"bar\"},{\"alignmentgroup\":\"True\",\"base\":[\"1970-01-02\",\"1970-01-06\",\"1970-01-26\",\"1970-01-30\",\"1970-02-19\",\"1970-02-23\",\"1970-03-15\",\"1970-03-19\"],\"hovertemplate\":\"Machine=FBU-3<br>Start=%{base}<br>Finish=%{x}<br>Product=%{y}<extra></extra>\",\"legendgroup\":\"FBU-3\",\"marker\":{\"color\":\"#00cc96\",\"pattern\":{\"shape\":\"\"}},\"name\":\"FBU-3\",\"offsetgroup\":\"FBU-3\",\"orientation\":\"h\",\"showlegend\":true,\"textposition\":\"auto\",\"x\":[345600000.0,345600000.0,345600000.0,345600000.0,345600000.0,345600000.0,345600000.0,345600000.0],\"xaxis\":\"x\",\"y\":[\"CSS-3\",\"Fixback-3\",\"CSS-3\",\"Fixback-3\",\"CSS-3\",\"Fixback-3\",\"CSS-3\",\"Fixback-3\"],\"yaxis\":\"y\",\"type\":\"bar\"},{\"alignmentgroup\":\"True\",\"base\":[\"1970-01-02\",\"1970-01-06\",\"1970-01-26\",\"1970-01-30\",\"1970-02-19\",\"1970-02-23\",\"1970-03-16\",\"1970-03-20\"],\"hovertemplate\":\"Machine=FBU-4<br>Start=%{base}<br>Finish=%{x}<br>Product=%{y}<extra></extra>\",\"legendgroup\":\"FBU-4\",\"marker\":{\"color\":\"#ab63fa\",\"pattern\":{\"shape\":\"\"}},\"name\":\"FBU-4\",\"offsetgroup\":\"FBU-4\",\"orientation\":\"h\",\"showlegend\":true,\"textposition\":\"auto\",\"x\":[345600000.0,345600000.0,345600000.0,345600000.0,345600000.0,345600000.0,345600000.0,345600000.0],\"xaxis\":\"x\",\"y\":[\"CSS-4\",\"Fixback-4\",\"CSS-4\",\"Fixback-4\",\"CSS-4\",\"Fixback-4\",\"CSS-4\",\"Fixback-4\"],\"yaxis\":\"y\",\"type\":\"bar\"},{\"alignmentgroup\":\"True\",\"base\":[\"1970-01-06\",\"1970-01-30\",\"1970-02-23\",\"1970-03-19\"],\"hovertemplate\":\"Machine=Slik-1<br>Start=%{base}<br>Finish=%{x}<br>Product=%{y}<extra></extra>\",\"legendgroup\":\"Slik-1\",\"marker\":{\"color\":\"#FFA15A\",\"pattern\":{\"shape\":\"\"}},\"name\":\"Slik-1\",\"offsetgroup\":\"Slik-1\",\"orientation\":\"h\",\"showlegend\":true,\"textposition\":\"auto\",\"x\":[345600000.0,345600000.0,345600000.0,345600000.0],\"xaxis\":\"x\",\"y\":[\"CSS-1\",\"CSS-1\",\"CSS-1\",\"CSS-1\"],\"yaxis\":\"y\",\"type\":\"bar\"},{\"alignmentgroup\":\"True\",\"base\":[\"1970-01-06\",\"1970-01-30\",\"1970-02-23\",\"1970-03-19\"],\"hovertemplate\":\"Machine=Slik-2<br>Start=%{base}<br>Finish=%{x}<br>Product=%{y}<extra></extra>\",\"legendgroup\":\"Slik-2\",\"marker\":{\"color\":\"#19d3f3\",\"pattern\":{\"shape\":\"\"}},\"name\":\"Slik-2\",\"offsetgroup\":\"Slik-2\",\"orientation\":\"h\",\"showlegend\":true,\"textposition\":\"auto\",\"x\":[345600000.0,345600000.0,345600000.0,345600000.0],\"xaxis\":\"x\",\"y\":[\"CSS-2\",\"CSS-2\",\"CSS-2\",\"CSS-2\"],\"yaxis\":\"y\",\"type\":\"bar\"},{\"alignmentgroup\":\"True\",\"base\":[\"1970-01-06\",\"1970-01-30\",\"1970-02-23\",\"1970-03-19\"],\"hovertemplate\":\"Machine=Slik-3<br>Start=%{base}<br>Finish=%{x}<br>Product=%{y}<extra></extra>\",\"legendgroup\":\"Slik-3\",\"marker\":{\"color\":\"#FF6692\",\"pattern\":{\"shape\":\"\"}},\"name\":\"Slik-3\",\"offsetgroup\":\"Slik-3\",\"orientation\":\"h\",\"showlegend\":true,\"textposition\":\"auto\",\"x\":[345600000.0,345600000.0,345600000.0,345600000.0],\"xaxis\":\"x\",\"y\":[\"CSS-3\",\"CSS-3\",\"CSS-3\",\"CSS-3\"],\"yaxis\":\"y\",\"type\":\"bar\"},{\"alignmentgroup\":\"True\",\"base\":[\"1970-01-06\",\"1970-01-30\",\"1970-02-23\",\"1970-03-20\"],\"hovertemplate\":\"Machine=Slik-4<br>Start=%{base}<br>Finish=%{x}<br>Product=%{y}<extra></extra>\",\"legendgroup\":\"Slik-4\",\"marker\":{\"color\":\"#B6E880\",\"pattern\":{\"shape\":\"\"}},\"name\":\"Slik-4\",\"offsetgroup\":\"Slik-4\",\"orientation\":\"h\",\"showlegend\":true,\"textposition\":\"auto\",\"x\":[345600000.0,345600000.0,345600000.0,345600000.0],\"xaxis\":\"x\",\"y\":[\"CSS-4\",\"CSS-4\",\"CSS-4\",\"CSS-4\"],\"yaxis\":\"y\",\"type\":\"bar\"},{\"alignmentgroup\":\"True\",\"base\":[\"1970-01-10\",\"1970-02-03\",\"1970-02-27\",\"1970-03-23\"],\"hovertemplate\":\"Machine=CTU-1<br>Start=%{base}<br>Finish=%{x}<br>Product=%{y}<extra></extra>\",\"legendgroup\":\"CTU-1\",\"marker\":{\"color\":\"#FF97FF\",\"pattern\":{\"shape\":\"\"}},\"name\":\"CTU-1\",\"offsetgroup\":\"CTU-1\",\"orientation\":\"h\",\"showlegend\":true,\"textposition\":\"auto\",\"x\":[345600000.0,345600000.0,345600000.0,345600000.0],\"xaxis\":\"x\",\"y\":[\"CSS-1\",\"CSS-1\",\"CSS-1\",\"CSS-1\"],\"yaxis\":\"y\",\"type\":\"bar\"},{\"alignmentgroup\":\"True\",\"base\":[\"1970-01-10\",\"1970-02-03\",\"1970-02-27\",\"1970-03-23\"],\"hovertemplate\":\"Machine=CTU-2<br>Start=%{base}<br>Finish=%{x}<br>Product=%{y}<extra></extra>\",\"legendgroup\":\"CTU-2\",\"marker\":{\"color\":\"#FECB52\",\"pattern\":{\"shape\":\"\"}},\"name\":\"CTU-2\",\"offsetgroup\":\"CTU-2\",\"orientation\":\"h\",\"showlegend\":true,\"textposition\":\"auto\",\"x\":[345600000.0,345600000.0,345600000.0,345600000.0],\"xaxis\":\"x\",\"y\":[\"CSS-2\",\"CSS-2\",\"CSS-2\",\"CSS-2\"],\"yaxis\":\"y\",\"type\":\"bar\"},{\"alignmentgroup\":\"True\",\"base\":[\"1970-01-10\",\"1970-02-03\",\"1970-02-27\",\"1970-03-23\"],\"hovertemplate\":\"Machine=CTU-3<br>Start=%{base}<br>Finish=%{x}<br>Product=%{y}<extra></extra>\",\"legendgroup\":\"CTU-3\",\"marker\":{\"color\":\"#636efa\",\"pattern\":{\"shape\":\"\"}},\"name\":\"CTU-3\",\"offsetgroup\":\"CTU-3\",\"orientation\":\"h\",\"showlegend\":true,\"textposition\":\"auto\",\"x\":[345600000.0,345600000.0,345600000.0,345600000.0],\"xaxis\":\"x\",\"y\":[\"CSS-3\",\"CSS-3\",\"CSS-3\",\"CSS-3\"],\"yaxis\":\"y\",\"type\":\"bar\"},{\"alignmentgroup\":\"True\",\"base\":[\"1970-01-10\",\"1970-02-03\",\"1970-02-27\",\"1970-03-24\"],\"hovertemplate\":\"Machine=CTU-4<br>Start=%{base}<br>Finish=%{x}<br>Product=%{y}<extra></extra>\",\"legendgroup\":\"CTU-4\",\"marker\":{\"color\":\"#EF553B\",\"pattern\":{\"shape\":\"\"}},\"name\":\"CTU-4\",\"offsetgroup\":\"CTU-4\",\"orientation\":\"h\",\"showlegend\":true,\"textposition\":\"auto\",\"x\":[345600000.0,345600000.0,345600000.0,345600000.0],\"xaxis\":\"x\",\"y\":[\"CSS-4\",\"CSS-4\",\"CSS-4\",\"CSS-4\"],\"yaxis\":\"y\",\"type\":\"bar\"},{\"alignmentgroup\":\"True\",\"base\":[\"1970-01-14\",\"1970-02-07\",\"1970-03-03\",\"1970-03-27\"],\"hovertemplate\":\"Machine=Drill-1<br>Start=%{base}<br>Finish=%{x}<br>Product=%{y}<extra></extra>\",\"legendgroup\":\"Drill-1\",\"marker\":{\"color\":\"#00cc96\",\"pattern\":{\"shape\":\"\"}},\"name\":\"Drill-1\",\"offsetgroup\":\"Drill-1\",\"orientation\":\"h\",\"showlegend\":true,\"textposition\":\"auto\",\"x\":[86400000.0,86400000.0,86400000.0,86400000.0],\"xaxis\":\"x\",\"y\":[\"CSS-1\",\"CSS-1\",\"CSS-1\",\"CSS-1\"],\"yaxis\":\"y\",\"type\":\"bar\"},{\"alignmentgroup\":\"True\",\"base\":[\"1970-01-14\",\"1970-02-07\",\"1970-03-03\",\"1970-03-27\"],\"hovertemplate\":\"Machine=Drill-2<br>Start=%{base}<br>Finish=%{x}<br>Product=%{y}<extra></extra>\",\"legendgroup\":\"Drill-2\",\"marker\":{\"color\":\"#ab63fa\",\"pattern\":{\"shape\":\"\"}},\"name\":\"Drill-2\",\"offsetgroup\":\"Drill-2\",\"orientation\":\"h\",\"showlegend\":true,\"textposition\":\"auto\",\"x\":[86400000.0,86400000.0,86400000.0,86400000.0],\"xaxis\":\"x\",\"y\":[\"CSS-2\",\"CSS-2\",\"CSS-2\",\"CSS-2\"],\"yaxis\":\"y\",\"type\":\"bar\"},{\"alignmentgroup\":\"True\",\"base\":[\"1970-01-14\",\"1970-02-07\",\"1970-03-03\",\"1970-03-27\"],\"hovertemplate\":\"Machine=Drill-3<br>Start=%{base}<br>Finish=%{x}<br>Product=%{y}<extra></extra>\",\"legendgroup\":\"Drill-3\",\"marker\":{\"color\":\"#FFA15A\",\"pattern\":{\"shape\":\"\"}},\"name\":\"Drill-3\",\"offsetgroup\":\"Drill-3\",\"orientation\":\"h\",\"showlegend\":true,\"textposition\":\"auto\",\"x\":[86400000.0,86400000.0,86400000.0,86400000.0],\"xaxis\":\"x\",\"y\":[\"CSS-3\",\"CSS-3\",\"CSS-3\",\"CSS-3\"],\"yaxis\":\"y\",\"type\":\"bar\"},{\"alignmentgroup\":\"True\",\"base\":[\"1970-01-14\",\"1970-02-07\",\"1970-03-03\",\"1970-03-28\"],\"hovertemplate\":\"Machine=Drill-4<br>Start=%{base}<br>Finish=%{x}<br>Product=%{y}<extra></extra>\",\"legendgroup\":\"Drill-4\",\"marker\":{\"color\":\"#19d3f3\",\"pattern\":{\"shape\":\"\"}},\"name\":\"Drill-4\",\"offsetgroup\":\"Drill-4\",\"orientation\":\"h\",\"showlegend\":true,\"textposition\":\"auto\",\"x\":[86400000.0,86400000.0,86400000.0,86400000.0],\"xaxis\":\"x\",\"y\":[\"CSS-4\",\"CSS-4\",\"CSS-4\",\"CSS-4\"],\"yaxis\":\"y\",\"type\":\"bar\"},{\"alignmentgroup\":\"True\",\"base\":[\"1970-01-01\",\"1970-01-10\",\"1970-01-11\",\"1970-01-12\",\"1970-01-25\",\"1970-02-03\",\"1970-02-04\",\"1970-02-05\",\"1970-02-18\",\"1970-02-27\",\"1970-02-28\",\"1970-03-01\",\"1970-03-14\",\"1970-03-15\",\"1970-03-23\",\"1970-03-29\",\"1970-03-30\"],\"hovertemplate\":\"Machine=Maintenance-1<br>Start=%{base}<br>Finish=%{x}<br>Product=%{y}<extra></extra>\",\"legendgroup\":\"Maintenance-1\",\"marker\":{\"color\":\"#FF6692\",\"pattern\":{\"shape\":\"\"}},\"name\":\"Maintenance-1\",\"offsetgroup\":\"Maintenance-1\",\"orientation\":\"h\",\"showlegend\":true,\"textposition\":\"auto\",\"x\":[86400000.0,86400000.0,86400000.0,345600000.0,86400000.0,86400000.0,86400000.0,345600000.0,86400000.0,86400000.0,86400000.0,345600000.0,86400000.0,86400000.0,86400000.0,86400000.0,345600000.0],\"xaxis\":\"x\",\"y\":[\"CSS-1\",\"Fixback-1\",\"Restore-1\",\"Declearance-1\",\"CSS-1\",\"Fixback-1\",\"Restore-1\",\"Declearance-1\",\"CSS-1\",\"Fixback-1\",\"Restore-1\",\"Declearance-1\",\"CSS-1\",\"CSS-4\",\"Fixback-3\",\"Restore-1\",\"Declearance-1\"],\"yaxis\":\"y\",\"type\":\"bar\"},{\"alignmentgroup\":\"True\",\"base\":[\"1970-01-01\",\"1970-01-10\",\"1970-01-16\",\"1970-01-25\",\"1970-02-03\",\"1970-02-09\",\"1970-02-18\",\"1970-02-27\",\"1970-03-05\",\"1970-03-14\",\"1970-03-23\",\"1970-03-24\",\"1970-03-25\"],\"hovertemplate\":\"Machine=Maintenance-2<br>Start=%{base}<br>Finish=%{x}<br>Product=%{y}<extra></extra>\",\"legendgroup\":\"Maintenance-2\",\"marker\":{\"color\":\"#B6E880\",\"pattern\":{\"shape\":\"\"}},\"name\":\"Maintenance-2\",\"offsetgroup\":\"Maintenance-2\",\"orientation\":\"h\",\"showlegend\":true,\"textposition\":\"auto\",\"x\":[86400000.0,86400000.0,86400000.0,86400000.0,86400000.0,86400000.0,86400000.0,86400000.0,86400000.0,86400000.0,86400000.0,86400000.0,86400000.0],\"xaxis\":\"x\",\"y\":[\"CSS-2\",\"Fixback-2\",\"Restore-1\",\"CSS-2\",\"Fixback-2\",\"Restore-1\",\"CSS-2\",\"Fixback-2\",\"Restore-1\",\"CSS-2\",\"Fixback-1\",\"Fixback-4\",\"Restore-2\"],\"yaxis\":\"y\",\"type\":\"bar\"},{\"alignmentgroup\":\"True\",\"base\":[\"1970-01-01\",\"1970-01-10\",\"1970-01-11\",\"1970-01-25\",\"1970-02-03\",\"1970-02-04\",\"1970-02-18\",\"1970-02-27\",\"1970-02-28\",\"1970-03-14\",\"1970-03-23\",\"1970-03-24\",\"1970-03-30\"],\"hovertemplate\":\"Machine=Maintenance-3<br>Start=%{base}<br>Finish=%{x}<br>Product=%{y}<extra></extra>\",\"legendgroup\":\"Maintenance-3\",\"marker\":{\"color\":\"#FF97FF\",\"pattern\":{\"shape\":\"\"}},\"name\":\"Maintenance-3\",\"offsetgroup\":\"Maintenance-3\",\"orientation\":\"h\",\"showlegend\":true,\"textposition\":\"auto\",\"x\":[86400000.0,86400000.0,86400000.0,86400000.0,86400000.0,86400000.0,86400000.0,86400000.0,86400000.0,86400000.0,86400000.0,86400000.0,86400000.0],\"xaxis\":\"x\",\"y\":[\"CSS-3\",\"Fixback-3\",\"Restore-2\",\"CSS-3\",\"Fixback-3\",\"Restore-2\",\"CSS-3\",\"Fixback-3\",\"Restore-2\",\"CSS-3\",\"Fixback-2\",\"Restore-1\",\"Restore-2\"],\"yaxis\":\"y\",\"type\":\"bar\"},{\"alignmentgroup\":\"True\",\"base\":[\"1970-01-01\",\"1970-01-10\",\"1970-01-16\",\"1970-01-25\",\"1970-02-03\",\"1970-02-09\",\"1970-02-18\",\"1970-02-27\",\"1970-03-05\",\"1970-03-14\"],\"hovertemplate\":\"Machine=Maintenance-4<br>Start=%{base}<br>Finish=%{x}<br>Product=%{y}<extra></extra>\",\"legendgroup\":\"Maintenance-4\",\"marker\":{\"color\":\"#FECB52\",\"pattern\":{\"shape\":\"\"}},\"name\":\"Maintenance-4\",\"offsetgroup\":\"Maintenance-4\",\"orientation\":\"h\",\"showlegend\":true,\"textposition\":\"auto\",\"x\":[86400000.0,86400000.0,86400000.0,86400000.0,86400000.0,86400000.0,86400000.0,86400000.0,86400000.0,432000000.0],\"xaxis\":\"x\",\"y\":[\"CSS-4\",\"Fixback-4\",\"Restore-2\",\"CSS-4\",\"Fixback-4\",\"Restore-2\",\"CSS-4\",\"Fixback-4\",\"Restore-2\",\"Clearance-1\"],\"yaxis\":\"y\",\"type\":\"bar\"}],                        {\"template\":{\"data\":{\"histogram2dcontour\":[{\"type\":\"histogram2dcontour\",\"colorbar\":{\"outlinewidth\":0,\"ticks\":\"\"},\"colorscale\":[[0.0,\"#0d0887\"],[0.1111111111111111,\"#46039f\"],[0.2222222222222222,\"#7201a8\"],[0.3333333333333333,\"#9c179e\"],[0.4444444444444444,\"#bd3786\"],[0.5555555555555556,\"#d8576b\"],[0.6666666666666666,\"#ed7953\"],[0.7777777777777778,\"#fb9f3a\"],[0.8888888888888888,\"#fdca26\"],[1.0,\"#f0f921\"]]}],\"choropleth\":[{\"type\":\"choropleth\",\"colorbar\":{\"outlinewidth\":0,\"ticks\":\"\"}}],\"histogram2d\":[{\"type\":\"histogram2d\",\"colorbar\":{\"outlinewidth\":0,\"ticks\":\"\"},\"colorscale\":[[0.0,\"#0d0887\"],[0.1111111111111111,\"#46039f\"],[0.2222222222222222,\"#7201a8\"],[0.3333333333333333,\"#9c179e\"],[0.4444444444444444,\"#bd3786\"],[0.5555555555555556,\"#d8576b\"],[0.6666666666666666,\"#ed7953\"],[0.7777777777777778,\"#fb9f3a\"],[0.8888888888888888,\"#fdca26\"],[1.0,\"#f0f921\"]]}],\"heatmap\":[{\"type\":\"heatmap\",\"colorbar\":{\"outlinewidth\":0,\"ticks\":\"\"},\"colorscale\":[[0.0,\"#0d0887\"],[0.1111111111111111,\"#46039f\"],[0.2222222222222222,\"#7201a8\"],[0.3333333333333333,\"#9c179e\"],[0.4444444444444444,\"#bd3786\"],[0.5555555555555556,\"#d8576b\"],[0.6666666666666666,\"#ed7953\"],[0.7777777777777778,\"#fb9f3a\"],[0.8888888888888888,\"#fdca26\"],[1.0,\"#f0f921\"]]}],\"heatmapgl\":[{\"type\":\"heatmapgl\",\"colorbar\":{\"outlinewidth\":0,\"ticks\":\"\"},\"colorscale\":[[0.0,\"#0d0887\"],[0.1111111111111111,\"#46039f\"],[0.2222222222222222,\"#7201a8\"],[0.3333333333333333,\"#9c179e\"],[0.4444444444444444,\"#bd3786\"],[0.5555555555555556,\"#d8576b\"],[0.6666666666666666,\"#ed7953\"],[0.7777777777777778,\"#fb9f3a\"],[0.8888888888888888,\"#fdca26\"],[1.0,\"#f0f921\"]]}],\"contourcarpet\":[{\"type\":\"contourcarpet\",\"colorbar\":{\"outlinewidth\":0,\"ticks\":\"\"}}],\"contour\":[{\"type\":\"contour\",\"colorbar\":{\"outlinewidth\":0,\"ticks\":\"\"},\"colorscale\":[[0.0,\"#0d0887\"],[0.1111111111111111,\"#46039f\"],[0.2222222222222222,\"#7201a8\"],[0.3333333333333333,\"#9c179e\"],[0.4444444444444444,\"#bd3786\"],[0.5555555555555556,\"#d8576b\"],[0.6666666666666666,\"#ed7953\"],[0.7777777777777778,\"#fb9f3a\"],[0.8888888888888888,\"#fdca26\"],[1.0,\"#f0f921\"]]}],\"surface\":[{\"type\":\"surface\",\"colorbar\":{\"outlinewidth\":0,\"ticks\":\"\"},\"colorscale\":[[0.0,\"#0d0887\"],[0.1111111111111111,\"#46039f\"],[0.2222222222222222,\"#7201a8\"],[0.3333333333333333,\"#9c179e\"],[0.4444444444444444,\"#bd3786\"],[0.5555555555555556,\"#d8576b\"],[0.6666666666666666,\"#ed7953\"],[0.7777777777777778,\"#fb9f3a\"],[0.8888888888888888,\"#fdca26\"],[1.0,\"#f0f921\"]]}],\"mesh3d\":[{\"type\":\"mesh3d\",\"colorbar\":{\"outlinewidth\":0,\"ticks\":\"\"}}],\"scatter\":[{\"fillpattern\":{\"fillmode\":\"overlay\",\"size\":10,\"solidity\":0.2},\"type\":\"scatter\"}],\"parcoords\":[{\"type\":\"parcoords\",\"line\":{\"colorbar\":{\"outlinewidth\":0,\"ticks\":\"\"}}}],\"scatterpolargl\":[{\"type\":\"scatterpolargl\",\"marker\":{\"colorbar\":{\"outlinewidth\":0,\"ticks\":\"\"}}}],\"bar\":[{\"error_x\":{\"color\":\"#2a3f5f\"},\"error_y\":{\"color\":\"#2a3f5f\"},\"marker\":{\"line\":{\"color\":\"#E5ECF6\",\"width\":0.5},\"pattern\":{\"fillmode\":\"overlay\",\"size\":10,\"solidity\":0.2}},\"type\":\"bar\"}],\"scattergeo\":[{\"type\":\"scattergeo\",\"marker\":{\"colorbar\":{\"outlinewidth\":0,\"ticks\":\"\"}}}],\"scatterpolar\":[{\"type\":\"scatterpolar\",\"marker\":{\"colorbar\":{\"outlinewidth\":0,\"ticks\":\"\"}}}],\"histogram\":[{\"marker\":{\"pattern\":{\"fillmode\":\"overlay\",\"size\":10,\"solidity\":0.2}},\"type\":\"histogram\"}],\"scattergl\":[{\"type\":\"scattergl\",\"marker\":{\"colorbar\":{\"outlinewidth\":0,\"ticks\":\"\"}}}],\"scatter3d\":[{\"type\":\"scatter3d\",\"line\":{\"colorbar\":{\"outlinewidth\":0,\"ticks\":\"\"}},\"marker\":{\"colorbar\":{\"outlinewidth\":0,\"ticks\":\"\"}}}],\"scattermapbox\":[{\"type\":\"scattermapbox\",\"marker\":{\"colorbar\":{\"outlinewidth\":0,\"ticks\":\"\"}}}],\"scatterternary\":[{\"type\":\"scatterternary\",\"marker\":{\"colorbar\":{\"outlinewidth\":0,\"ticks\":\"\"}}}],\"scattercarpet\":[{\"type\":\"scattercarpet\",\"marker\":{\"colorbar\":{\"outlinewidth\":0,\"ticks\":\"\"}}}],\"carpet\":[{\"aaxis\":{\"endlinecolor\":\"#2a3f5f\",\"gridcolor\":\"white\",\"linecolor\":\"white\",\"minorgridcolor\":\"white\",\"startlinecolor\":\"#2a3f5f\"},\"baxis\":{\"endlinecolor\":\"#2a3f5f\",\"gridcolor\":\"white\",\"linecolor\":\"white\",\"minorgridcolor\":\"white\",\"startlinecolor\":\"#2a3f5f\"},\"type\":\"carpet\"}],\"table\":[{\"cells\":{\"fill\":{\"color\":\"#EBF0F8\"},\"line\":{\"color\":\"white\"}},\"header\":{\"fill\":{\"color\":\"#C8D4E3\"},\"line\":{\"color\":\"white\"}},\"type\":\"table\"}],\"barpolar\":[{\"marker\":{\"line\":{\"color\":\"#E5ECF6\",\"width\":0.5},\"pattern\":{\"fillmode\":\"overlay\",\"size\":10,\"solidity\":0.2}},\"type\":\"barpolar\"}],\"pie\":[{\"automargin\":true,\"type\":\"pie\"}]},\"layout\":{\"autotypenumbers\":\"strict\",\"colorway\":[\"#636efa\",\"#EF553B\",\"#00cc96\",\"#ab63fa\",\"#FFA15A\",\"#19d3f3\",\"#FF6692\",\"#B6E880\",\"#FF97FF\",\"#FECB52\"],\"font\":{\"color\":\"#2a3f5f\"},\"hovermode\":\"closest\",\"hoverlabel\":{\"align\":\"left\"},\"paper_bgcolor\":\"white\",\"plot_bgcolor\":\"#E5ECF6\",\"polar\":{\"bgcolor\":\"#E5ECF6\",\"angularaxis\":{\"gridcolor\":\"white\",\"linecolor\":\"white\",\"ticks\":\"\"},\"radialaxis\":{\"gridcolor\":\"white\",\"linecolor\":\"white\",\"ticks\":\"\"}},\"ternary\":{\"bgcolor\":\"#E5ECF6\",\"aaxis\":{\"gridcolor\":\"white\",\"linecolor\":\"white\",\"ticks\":\"\"},\"baxis\":{\"gridcolor\":\"white\",\"linecolor\":\"white\",\"ticks\":\"\"},\"caxis\":{\"gridcolor\":\"white\",\"linecolor\":\"white\",\"ticks\":\"\"}},\"coloraxis\":{\"colorbar\":{\"outlinewidth\":0,\"ticks\":\"\"}},\"colorscale\":{\"sequential\":[[0.0,\"#0d0887\"],[0.1111111111111111,\"#46039f\"],[0.2222222222222222,\"#7201a8\"],[0.3333333333333333,\"#9c179e\"],[0.4444444444444444,\"#bd3786\"],[0.5555555555555556,\"#d8576b\"],[0.6666666666666666,\"#ed7953\"],[0.7777777777777778,\"#fb9f3a\"],[0.8888888888888888,\"#fdca26\"],[1.0,\"#f0f921\"]],\"sequentialminus\":[[0.0,\"#0d0887\"],[0.1111111111111111,\"#46039f\"],[0.2222222222222222,\"#7201a8\"],[0.3333333333333333,\"#9c179e\"],[0.4444444444444444,\"#bd3786\"],[0.5555555555555556,\"#d8576b\"],[0.6666666666666666,\"#ed7953\"],[0.7777777777777778,\"#fb9f3a\"],[0.8888888888888888,\"#fdca26\"],[1.0,\"#f0f921\"]],\"diverging\":[[0,\"#8e0152\"],[0.1,\"#c51b7d\"],[0.2,\"#de77ae\"],[0.3,\"#f1b6da\"],[0.4,\"#fde0ef\"],[0.5,\"#f7f7f7\"],[0.6,\"#e6f5d0\"],[0.7,\"#b8e186\"],[0.8,\"#7fbc41\"],[0.9,\"#4d9221\"],[1,\"#276419\"]]},\"xaxis\":{\"gridcolor\":\"white\",\"linecolor\":\"white\",\"ticks\":\"\",\"title\":{\"standoff\":15},\"zerolinecolor\":\"white\",\"automargin\":true,\"zerolinewidth\":2},\"yaxis\":{\"gridcolor\":\"white\",\"linecolor\":\"white\",\"ticks\":\"\",\"title\":{\"standoff\":15},\"zerolinecolor\":\"white\",\"automargin\":true,\"zerolinewidth\":2},\"scene\":{\"xaxis\":{\"backgroundcolor\":\"#E5ECF6\",\"gridcolor\":\"white\",\"linecolor\":\"white\",\"showbackground\":true,\"ticks\":\"\",\"zerolinecolor\":\"white\",\"gridwidth\":2},\"yaxis\":{\"backgroundcolor\":\"#E5ECF6\",\"gridcolor\":\"white\",\"linecolor\":\"white\",\"showbackground\":true,\"ticks\":\"\",\"zerolinecolor\":\"white\",\"gridwidth\":2},\"zaxis\":{\"backgroundcolor\":\"#E5ECF6\",\"gridcolor\":\"white\",\"linecolor\":\"white\",\"showbackground\":true,\"ticks\":\"\",\"zerolinecolor\":\"white\",\"gridwidth\":2}},\"shapedefaults\":{\"line\":{\"color\":\"#2a3f5f\"}},\"annotationdefaults\":{\"arrowcolor\":\"#2a3f5f\",\"arrowhead\":0,\"arrowwidth\":1},\"geo\":{\"bgcolor\":\"white\",\"landcolor\":\"#E5ECF6\",\"subunitcolor\":\"white\",\"showland\":true,\"showlakes\":true,\"lakecolor\":\"white\"},\"title\":{\"x\":0.05},\"mapbox\":{\"style\":\"light\"}}},\"xaxis\":{\"anchor\":\"y\",\"domain\":[0.0,1.0],\"type\":\"date\",\"tickvals\":[\"1970-01-01\",\"1970-01-02\",\"1970-01-03\",\"1970-01-04\",\"1970-01-05\",\"1970-01-06\",\"1970-01-07\",\"1970-01-08\",\"1970-01-09\",\"1970-01-10\",\"1970-01-11\",\"1970-01-12\",\"1970-01-13\",\"1970-01-14\",\"1970-01-15\",\"1970-01-16\",\"1970-01-17\",\"1970-01-18\",\"1970-01-19\",\"1970-01-20\",\"1970-01-21\",\"1970-01-22\",\"1970-01-23\",\"1970-01-24\",\"1970-01-25\",\"1970-01-26\",\"1970-01-27\",\"1970-01-28\",\"1970-01-29\",\"1970-01-30\",\"1970-01-31\",\"1970-02-01\",\"1970-02-02\",\"1970-02-03\",\"1970-02-04\",\"1970-02-05\",\"1970-02-06\",\"1970-02-07\",\"1970-02-08\",\"1970-02-09\",\"1970-02-10\",\"1970-02-11\",\"1970-02-12\",\"1970-02-13\",\"1970-02-14\",\"1970-02-15\",\"1970-02-16\",\"1970-02-17\",\"1970-02-18\",\"1970-02-19\",\"1970-02-20\",\"1970-02-21\",\"1970-02-22\",\"1970-02-23\",\"1970-02-24\",\"1970-02-25\",\"1970-02-26\",\"1970-02-27\",\"1970-02-28\",\"1970-03-01\",\"1970-03-02\",\"1970-03-03\",\"1970-03-04\",\"1970-03-05\",\"1970-03-06\",\"1970-03-07\",\"1970-03-08\",\"1970-03-09\",\"1970-03-10\",\"1970-03-11\",\"1970-03-12\",\"1970-03-13\",\"1970-03-14\",\"1970-03-15\",\"1970-03-16\",\"1970-03-17\",\"1970-03-18\",\"1970-03-19\",\"1970-03-20\",\"1970-03-21\",\"1970-03-22\",\"1970-03-23\",\"1970-03-24\",\"1970-03-25\",\"1970-03-26\",\"1970-03-27\",\"1970-03-28\",\"1970-03-29\",\"1970-03-30\",\"1970-03-31\",\"1970-04-01\",\"1970-04-02\",\"1970-04-03\",\"1970-04-04\",\"1970-04-05\",\"1970-04-06\",\"1970-04-07\"],\"ticktext\":[0,1,2,3,4,5,6,7,8,9,10,11,12,13,14,15,16,17,18,19,20,21,22,23,24,25,26,27,28,29,30,31,32,33,34,35,36,37,38,39,40,41,42,43,44,45,46,47,48,49,50,51,52,53,54,55,56,57,58,59,60,61,62,63,64,65,66,67,68,69,70,71,72,73,74,75,76,77,78,79,80,81,82,83,84,85,86,87,88,89,90,91,92,93,94,95,96]},\"yaxis\":{\"anchor\":\"x\",\"domain\":[0.0,1.0],\"title\":{\"text\":\"Product\"},\"autorange\":\"reversed\"},\"legend\":{\"title\":{\"text\":\"Machine\"},\"tracegroupgap\":0},\"margin\":{\"t\":60},\"barmode\":\"overlay\"},                        {\"responsive\": true}                    ).then(function(){\n",
              "                            \n",
              "var gd = document.getElementById('ba7640c4-8482-464a-a9b7-31833269e2b4');\n",
              "var x = new MutationObserver(function (mutations, observer) {{\n",
              "        var display = window.getComputedStyle(gd).display;\n",
              "        if (!display || display === 'none') {{\n",
              "            console.log([gd, 'removed!']);\n",
              "            Plotly.purge(gd);\n",
              "            observer.disconnect();\n",
              "        }}\n",
              "}});\n",
              "\n",
              "// Listen for the removal of the full notebook cells\n",
              "var notebookContainer = gd.closest('#notebook-container');\n",
              "if (notebookContainer) {{\n",
              "    x.observe(notebookContainer, {childList: true});\n",
              "}}\n",
              "\n",
              "// Listen for the clearing of the current output cell\n",
              "var outputEl = gd.closest('.output');\n",
              "if (outputEl) {{\n",
              "    x.observe(outputEl, {childList: true});\n",
              "}}\n",
              "\n",
              "                        })                };                });            </script>        </div>"
            ]
          },
          "metadata": {},
          "output_type": "display_data"
        }
      ],
      "source": [
        "layout_type = 2     # 1 for machine type | 2 for product type\n",
        "\n",
        "if layout_type == 1:\n",
        "    fig = px.timeline(df, x_start=\"Start\", x_end=\"Finish\",\n",
        "                      y=\"Machine\", color=\"Product\")\n",
        "else:\n",
        "    fig = px.timeline(df, x_start=\"Start\", x_end=\"Finish\",\n",
        "                      y=\"Product\", color=\"Machine\")\n",
        "\n",
        "num_tick_labels = np.linspace(start=0, stop=D * 24, num=D * 24 + 1, dtype=int)\n",
        "date_ticks = [c_datetime(x) for x in num_tick_labels]\n",
        "fig.layout.xaxis.update({\n",
        "    'tickvals': date_ticks,\n",
        "    'ticktext': num_tick_labels\n",
        "})\n",
        "fig.update_yaxes(autorange=\"reversed\")\n",
        "fig.show()\n",
        "h = {}"
      ]
    }
  ],
  "metadata": {
    "colab": {
      "collapsed_sections": [],
      "provenance": []
    },
    "kernelspec": {
      "display_name": "Python 3.10.7 64-bit",
      "language": "python",
      "name": "python3"
    },
    "language_info": {
      "codemirror_mode": {
        "name": "ipython",
        "version": 3
      },
      "file_extension": ".py",
      "mimetype": "text/x-python",
      "name": "python",
      "nbconvert_exporter": "python",
      "pygments_lexer": "ipython3",
      "version": "3.10.7"
    },
    "vscode": {
      "interpreter": {
        "hash": "949777d72b0d2535278d3dc13498b2535136f6dfe0678499012e853ee9abcab1"
      }
    }
  },
  "nbformat": 4,
  "nbformat_minor": 0
}
